{
 "cells": [
  {
   "cell_type": "code",
   "execution_count": 405,
   "metadata": {},
   "outputs": [],
   "source": [
    "import numpy as np\n",
    "import pandas as pd"
   ]
  },
  {
   "cell_type": "code",
   "execution_count": 406,
   "metadata": {},
   "outputs": [],
   "source": [
    "with pd.ExcelFile('input/PD Bechdel Test.xlsx') as xl:\n",
    "    df_web = pd.read_excel(xl, sheet_name='Webscraping')\n",
    "    df_html = pd.read_excel(xl, sheet_name='html')"
   ]
  },
  {
   "cell_type": "code",
   "execution_count": 407,
   "metadata": {},
   "outputs": [
    {
     "data": {
      "text/html": [
       "<div>\n",
       "<style scoped>\n",
       "    .dataframe tbody tr th:only-of-type {\n",
       "        vertical-align: middle;\n",
       "    }\n",
       "\n",
       "    .dataframe tbody tr th {\n",
       "        vertical-align: top;\n",
       "    }\n",
       "\n",
       "    .dataframe thead th {\n",
       "        text-align: right;\n",
       "    }\n",
       "</style>\n",
       "<table border=\"1\" class=\"dataframe\">\n",
       "  <thead>\n",
       "    <tr style=\"text-align: right;\">\n",
       "      <th></th>\n",
       "      <th>DownloadData</th>\n",
       "      <th>Year</th>\n",
       "    </tr>\n",
       "  </thead>\n",
       "  <tbody>\n",
       "    <tr>\n",
       "      <th>0</th>\n",
       "      <td>&lt;a href=\"http://us.imdb.com/title/tt3155794/\"&gt;&lt;img src=\"/static/nopass.png\" alt=\"[[0]]\" title=\"[Fewer than two women in this movie]\"&gt;&lt;/a&gt;\\n\\t\\t&lt;a id=\"movie-9602\" href=\"/view/9602/passage_de_venus/...</td>\n",
       "      <td>1874</td>\n",
       "    </tr>\n",
       "    <tr>\n",
       "      <th>1</th>\n",
       "      <td>&lt;a href=\"http://us.imdb.com/title/tt14495706/\"&gt;&lt;img src=\"/static/nopass.png\" alt=\"[[0]]\" title=\"[Fewer than two women in this movie]\"&gt;&lt;/a&gt;\\n\\t\\t&lt;a id=\"movie-9804\" href=\"/view/9804/la_rosace_magiqu...</td>\n",
       "      <td>1877</td>\n",
       "    </tr>\n",
       "    <tr>\n",
       "      <th>2</th>\n",
       "      <td>&lt;a href=\"http://us.imdb.com/title/tt12592084/\"&gt;&lt;img src=\"/static/nopass.png\" alt=\"[[0]]\" title=\"[Fewer than two women in this movie]\"&gt;&lt;/a&gt;\\n\\t\\t&lt;a id=\"movie-9806\" href=\"/view/9806/le_singe_musicie...</td>\n",
       "      <td>1878</td>\n",
       "    </tr>\n",
       "    <tr>\n",
       "      <th>3</th>\n",
       "      <td>&lt;a href=\"http://us.imdb.com/title/tt2221420/\"&gt;&lt;img src=\"/static/nopass.png\" alt=\"[[0]]\" title=\"[Fewer than two women in this movie]\"&gt;&lt;/a&gt;\\n\\t\\t&lt;a id=\"movie-9603\" href=\"/view/9603/sallie_gardner_at...</td>\n",
       "      <td>1878</td>\n",
       "    </tr>\n",
       "    <tr>\n",
       "      <th>4</th>\n",
       "      <td>&lt;a href=\"http://us.imdb.com/title/tt7816420/\"&gt;&lt;img src=\"/static/nopass.png\" alt=\"[[0]]\" title=\"[Fewer than two women in this movie]\"&gt;&lt;/a&gt;\\n\\t\\t&lt;a id=\"movie-9816\" href=\"/view/9816/athlete_swinging_...</td>\n",
       "      <td>1881</td>\n",
       "    </tr>\n",
       "  </tbody>\n",
       "</table>\n",
       "</div>"
      ],
      "text/plain": [
       "                                                                                                                                                                                              DownloadData  \\\n",
       "0  <a href=\"http://us.imdb.com/title/tt3155794/\"><img src=\"/static/nopass.png\" alt=\"[[0]]\" title=\"[Fewer than two women in this movie]\"></a>\\n\\t\\t<a id=\"movie-9602\" href=\"/view/9602/passage_de_venus/...   \n",
       "1  <a href=\"http://us.imdb.com/title/tt14495706/\"><img src=\"/static/nopass.png\" alt=\"[[0]]\" title=\"[Fewer than two women in this movie]\"></a>\\n\\t\\t<a id=\"movie-9804\" href=\"/view/9804/la_rosace_magiqu...   \n",
       "2  <a href=\"http://us.imdb.com/title/tt12592084/\"><img src=\"/static/nopass.png\" alt=\"[[0]]\" title=\"[Fewer than two women in this movie]\"></a>\\n\\t\\t<a id=\"movie-9806\" href=\"/view/9806/le_singe_musicie...   \n",
       "3  <a href=\"http://us.imdb.com/title/tt2221420/\"><img src=\"/static/nopass.png\" alt=\"[[0]]\" title=\"[Fewer than two women in this movie]\"></a>\\n\\t\\t<a id=\"movie-9603\" href=\"/view/9603/sallie_gardner_at...   \n",
       "4  <a href=\"http://us.imdb.com/title/tt7816420/\"><img src=\"/static/nopass.png\" alt=\"[[0]]\" title=\"[Fewer than two women in this movie]\"></a>\\n\\t\\t<a id=\"movie-9816\" href=\"/view/9816/athlete_swinging_...   \n",
       "\n",
       "   Year  \n",
       "0  1874  \n",
       "1  1877  \n",
       "2  1878  \n",
       "3  1878  \n",
       "4  1881  "
      ]
     },
     "execution_count": 407,
     "metadata": {},
     "output_type": "execute_result"
    }
   ],
   "source": [
    "df_web.head()"
   ]
  },
  {
   "cell_type": "code",
   "execution_count": 408,
   "metadata": {},
   "outputs": [
    {
     "data": {
      "text/html": [
       "<div>\n",
       "<style scoped>\n",
       "    .dataframe tbody tr th:only-of-type {\n",
       "        vertical-align: middle;\n",
       "    }\n",
       "\n",
       "    .dataframe tbody tr th {\n",
       "        vertical-align: top;\n",
       "    }\n",
       "\n",
       "    .dataframe thead th {\n",
       "        text-align: right;\n",
       "    }\n",
       "</style>\n",
       "<table border=\"1\" class=\"dataframe\">\n",
       "  <thead>\n",
       "    <tr style=\"text-align: right;\">\n",
       "      <th></th>\n",
       "      <th>Char</th>\n",
       "      <th>Numeric</th>\n",
       "      <th>Named</th>\n",
       "      <th>Description</th>\n",
       "    </tr>\n",
       "  </thead>\n",
       "  <tbody>\n",
       "    <tr>\n",
       "      <th>0</th>\n",
       "      <td>NaN</td>\n",
       "      <td>code</td>\n",
       "      <td>code</td>\n",
       "      <td>NaN</td>\n",
       "    </tr>\n",
       "    <tr>\n",
       "      <th>1</th>\n",
       "      <td>NaN</td>\n",
       "      <td>&amp;#32;</td>\n",
       "      <td>NaN</td>\n",
       "      <td>space</td>\n",
       "    </tr>\n",
       "    <tr>\n",
       "      <th>2</th>\n",
       "      <td>!</td>\n",
       "      <td>&amp;#33;</td>\n",
       "      <td>NaN</td>\n",
       "      <td>exclamation mark</td>\n",
       "    </tr>\n",
       "    <tr>\n",
       "      <th>3</th>\n",
       "      <td>\"</td>\n",
       "      <td>&amp;#34;</td>\n",
       "      <td>&amp;quot;</td>\n",
       "      <td>double quote</td>\n",
       "    </tr>\n",
       "    <tr>\n",
       "      <th>4</th>\n",
       "      <td>#</td>\n",
       "      <td>&amp;#35;</td>\n",
       "      <td>NaN</td>\n",
       "      <td>number</td>\n",
       "    </tr>\n",
       "  </tbody>\n",
       "</table>\n",
       "</div>"
      ],
      "text/plain": [
       "  Char Numeric   Named       Description\n",
       "0  NaN    code    code               NaN\n",
       "1  NaN   &#32;     NaN             space\n",
       "2    !   &#33;     NaN  exclamation mark\n",
       "3    \"   &#34;  &quot;      double quote\n",
       "4    #   &#35;     NaN            number"
      ]
     },
     "execution_count": 408,
     "metadata": {},
     "output_type": "execute_result"
    }
   ],
   "source": [
    "df_html.head()"
   ]
  },
  {
   "cell_type": "code",
   "execution_count": 409,
   "metadata": {},
   "outputs": [],
   "source": [
    "df_html.iat[1,0] = ' '\n",
    "df_html = df_html.iloc[1:]\n",
    "html_num_to_char = dict(zip(df_html['Numeric'], df_html['Char']))"
   ]
  },
  {
   "cell_type": "code",
   "execution_count": 410,
   "metadata": {},
   "outputs": [],
   "source": [
    "df_html = df_html.dropna(subset=['Named'])\n",
    "html_named_to_char = dict(zip(df_html['Named'], df_html['Char']))"
   ]
  },
  {
   "cell_type": "code",
   "execution_count": 411,
   "metadata": {},
   "outputs": [],
   "source": [
    "html_amp_to_and = {'&amp;':'&'}"
   ]
  },
  {
   "cell_type": "code",
   "execution_count": 412,
   "metadata": {},
   "outputs": [],
   "source": [
    "for k,v in html_amp_to_and.items():\n",
    "    df_web['DownloadData'] = df_web['DownloadData'].apply(lambda df_x : df_x.replace(repr(k), repr(v)))\n",
    "\n",
    "for k,v in html_num_to_char.items():\n",
    "    df_web['DownloadData'] = df_web['DownloadData'].apply(lambda df_x : df_x.replace(repr(k), repr(v)))\n",
    "    \n",
    "for k,v in html_named_to_char.items():\n",
    "    df_web['DownloadData'] = df_web['DownloadData'].apply(lambda df_x : df_x.replace(repr(k), repr(v)))"
   ]
  },
  {
   "cell_type": "code",
   "execution_count": 413,
   "metadata": {},
   "outputs": [
    {
     "data": {
      "text/plain": [
       "'<a href=\"http://us.imdb.com/title/tt0258104/\"><img src=\"/static/nopass.png\" alt=\"[[0]]\" title=\"[Fewer than two women in this movie]\"></a>\\n\\t\\t<a id=\"movie-5437\" href=\"/view/5437/reve_et_realite/\">Reve et realite</a>   </div>'"
      ]
     },
     "execution_count": 413,
     "metadata": {},
     "output_type": "execute_result"
    }
   ],
   "source": [
    "df_web.iat[100,0]"
   ]
  },
  {
   "cell_type": "code",
   "execution_count": 414,
   "metadata": {},
   "outputs": [],
   "source": [
    "# str.replaceを続けてくっつけると、エラーを吐き出す\n",
    "df_web['Categorisation'] = df_web['DownloadData'].str.extract('title=\"(.+)]\"></a', expand=True)\n",
    "df_web['Categorisation'] = df_web['Categorisation'].str.replace('[', '')"
   ]
  },
  {
   "cell_type": "code",
   "execution_count": 415,
   "metadata": {},
   "outputs": [],
   "source": [
    "df_web['Movie'] = df_web['DownloadData'].str.extract('href=\"/view/(.+)</a>', expand=True)\n",
    "df_web['Movie'] = df_web['Movie'].str.split('\">', expand=True)[1]"
   ]
  },
  {
   "cell_type": "code",
   "execution_count": 416,
   "metadata": {},
   "outputs": [],
   "source": [
    "df_web['Pass/Fail'] = df_web[\"DownloadData\"].apply(lambda df_x: 'Fail' if 'nopass.png' in df_x else 'Pass')"
   ]
  },
  {
   "cell_type": "code",
   "execution_count": 417,
   "metadata": {},
   "outputs": [
    {
     "data": {
      "text/plain": [
       "0                                                                                            Fewer than two women in this movie\n",
       "64                                                 There are two or more women in this movie, but they don't talk to each other\n",
       "86                       There are two or more women in this movie and they talk to each other about something other than a man\n",
       "128                                     There are two or more women in this movie, but they only talk to each other about a man\n",
       "150    There are two or more women in this movie and they talk to each other about something other than a man, although dubious\n",
       "Name: Categorisation, dtype: object"
      ]
     },
     "execution_count": 417,
     "metadata": {},
     "output_type": "execute_result"
    }
   ],
   "source": [
    "pd.set_option(\"display.max_colwidth\", 200)\n",
    "df_web['Categorisation'].drop_duplicates()"
   ]
  },
  {
   "cell_type": "code",
   "execution_count": 419,
   "metadata": {},
   "outputs": [],
   "source": [
    "Categori_rank = {\"Fewer than two women in this movie\": 5,\n",
    "\"There are two or more women in this movie, but they don't talk to each other\": 4,\n",
    "\"There are two or more women in this movie and they talk to each other about something other than a man\": 1,\n",
    "\"There are two or more women in this movie, but they only talk to each other about a man\": 3,\n",
    "\"There are two or more women in this movie and they talk to each other about something other than a man, although dubious\": 2}\n",
    "\n",
    "df_web['Ranking'] = df_web['Categorisation'].map(Categori_rank)"
   ]
  },
  {
   "cell_type": "code",
   "execution_count": 421,
   "metadata": {},
   "outputs": [
    {
     "data": {
      "text/plain": [
       "Index(['DownloadData', 'Year', 'Categorisation', 'Movie', 'Pass/Fail',\n",
       "       'Ranking'],\n",
       "      dtype='object')"
      ]
     },
     "execution_count": 421,
     "metadata": {},
     "output_type": "execute_result"
    }
   ],
   "source": [
    "col = ['Movie', 'Year', 'Pass/Fail', 'Ranking', 'Categorisation']\n",
    "df."
   ]
  },
  {
   "cell_type": "code",
   "execution_count": null,
   "metadata": {},
   "outputs": [],
   "source": []
  }
 ],
 "metadata": {
  "kernelspec": {
   "display_name": "Python 3",
   "language": "python",
   "name": "python3"
  },
  "language_info": {
   "codemirror_mode": {
    "name": "ipython",
    "version": 3
   },
   "file_extension": ".py",
   "mimetype": "text/x-python",
   "name": "python",
   "nbconvert_exporter": "python",
   "pygments_lexer": "ipython3",
   "version": "3.7.6"
  }
 },
 "nbformat": 4,
 "nbformat_minor": 4
}
