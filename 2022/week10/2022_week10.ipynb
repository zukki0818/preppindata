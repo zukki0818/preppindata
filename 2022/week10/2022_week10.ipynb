{
 "cells": [
  {
   "cell_type": "code",
   "execution_count": 430,
   "metadata": {},
   "outputs": [],
   "source": [
    "import numpy as np\n",
    "import pandas as pd"
   ]
  },
  {
   "cell_type": "code",
   "execution_count": 431,
   "metadata": {},
   "outputs": [],
   "source": [
    "with pd.ExcelFile('input/PD Bechdel Test.xlsx') as xl:\n",
    "    df_web = pd.read_excel(xl, sheet_name='Webscraping')\n",
    "    df_html = pd.read_excel(xl, sheet_name='html')"
   ]
  },
  {
   "cell_type": "code",
   "execution_count": 432,
   "metadata": {},
   "outputs": [
    {
     "data": {
      "text/html": [
       "<div>\n",
       "<style scoped>\n",
       "    .dataframe tbody tr th:only-of-type {\n",
       "        vertical-align: middle;\n",
       "    }\n",
       "\n",
       "    .dataframe tbody tr th {\n",
       "        vertical-align: top;\n",
       "    }\n",
       "\n",
       "    .dataframe thead th {\n",
       "        text-align: right;\n",
       "    }\n",
       "</style>\n",
       "<table border=\"1\" class=\"dataframe\">\n",
       "  <thead>\n",
       "    <tr style=\"text-align: right;\">\n",
       "      <th></th>\n",
       "      <th>DownloadData</th>\n",
       "      <th>Year</th>\n",
       "    </tr>\n",
       "  </thead>\n",
       "  <tbody>\n",
       "    <tr>\n",
       "      <th>0</th>\n",
       "      <td>&lt;a href=\"http://us.imdb.com/title/tt3155794/\"&gt;&lt;img src=\"/static/nopass.png\" alt=\"[[0]]\" title=\"[Fewer than two women in this movie]\"&gt;&lt;/a&gt;\\n\\t\\t&lt;a id=\"movie-9602\" href=\"/view/9602/passage_de_venus/\"&gt;Passage de Venus&lt;/a&gt;   &lt;a href=\"/view/9602/passage_de_venus/\" onclick=\"showComments('9602'); return false;\"&gt;&lt;img src=\"/static/comments.png\" alt=\"[1 comment(s) available]\"\\n\\t\\t\\t\\tid=\"comment-img-9602\" style=\"height: 10px; width: 10px;\"\\n                title=\"1 comment\"&gt;&lt;/a&gt;  &lt;/div&gt; &lt;div style=\"border: 2px dashed white; margin-top: 3px; margin-right: 14px; padding: 3px; background-color: #CFE8CC; text-align: center;\"&gt;  &lt;div style=\"margin-top: 7px; font-size: 80%;\"&gt;&lt;a href=\"/search/\"&gt;You can also search or list per year&lt;/a&gt;, or &lt;a href=\"?list=all\"&gt;list all movies&lt;/a&gt;.&lt;/div&gt;\\n&lt;/div&gt;\\n&lt;/div&gt;\\n\\n&lt;div&gt;\\n&lt;h2&gt;About&lt;/h2&gt;\\n&lt;p&gt;The &lt;b&gt;Bechdel Test&lt;/b&gt;, or &lt;b&gt;&lt;a href=\"https://www.independent.co.uk/arts-entertainment/films/news/please-stop-calling-it-the-bechdel-test-says-alison-bechdel-10474730.htm...</td>\n",
       "      <td>1874</td>\n",
       "    </tr>\n",
       "    <tr>\n",
       "      <th>1</th>\n",
       "      <td>&lt;a href=\"http://us.imdb.com/title/tt14495706/\"&gt;&lt;img src=\"/static/nopass.png\" alt=\"[[0]]\" title=\"[Fewer than two women in this movie]\"&gt;&lt;/a&gt;\\n\\t\\t&lt;a id=\"movie-9804\" href=\"/view/9804/la_rosace_magique/\"&gt;La Rosace Magique&lt;/a&gt;   &lt;a href=\"/view/9804/la_rosace_magique/\" onclick=\"showComments('9804'); return false;\"&gt;&lt;img src=\"/static/comments.png\" alt=\"[1 comment(s) available]\"\\n\\t\\t\\t\\tid=\"comment-img-9804\" style=\"height: 10px; width: 10px;\"\\n                title=\"1 comment\"&gt;&lt;/a&gt;  &lt;/div&gt;</td>\n",
       "      <td>1877</td>\n",
       "    </tr>\n",
       "    <tr>\n",
       "      <th>2</th>\n",
       "      <td>&lt;a href=\"http://us.imdb.com/title/tt12592084/\"&gt;&lt;img src=\"/static/nopass.png\" alt=\"[[0]]\" title=\"[Fewer than two women in this movie]\"&gt;&lt;/a&gt;\\n\\t\\t&lt;a id=\"movie-9806\" href=\"/view/9806/le_singe_musicien/\"&gt;Le singe musicien&lt;/a&gt;   &lt;a href=\"/view/9806/le_singe_musicien/\" onclick=\"showComments('9806'); return false;\"&gt;&lt;img src=\"/static/comments.png\" alt=\"[1 comment(s) available]\"\\n\\t\\t\\t\\tid=\"comment-img-9806\" style=\"height: 10px; width: 10px;\"\\n                title=\"1 comment\"&gt;&lt;/a&gt;  &lt;/div&gt;</td>\n",
       "      <td>1878</td>\n",
       "    </tr>\n",
       "    <tr>\n",
       "      <th>3</th>\n",
       "      <td>&lt;a href=\"http://us.imdb.com/title/tt2221420/\"&gt;&lt;img src=\"/static/nopass.png\" alt=\"[[0]]\" title=\"[Fewer than two women in this movie]\"&gt;&lt;/a&gt;\\n\\t\\t&lt;a id=\"movie-9603\" href=\"/view/9603/sallie_gardner_at_a_gallop/\"&gt;Sallie Gardner at a Gallop&lt;/a&gt;   &lt;a href=\"/view/9603/sallie_gardner_at_a_gallop/\" onclick=\"showComments('9603'); return false;\"&gt;&lt;img src=\"/static/comments.png\" alt=\"[1 comment(s) available]\"\\n\\t\\t\\t\\tid=\"comment-img-9603\" style=\"height: 10px; width: 10px;\"\\n                title=\"1 comment\"&gt;&lt;/a&gt;  &lt;/div&gt;</td>\n",
       "      <td>1878</td>\n",
       "    </tr>\n",
       "    <tr>\n",
       "      <th>4</th>\n",
       "      <td>&lt;a href=\"http://us.imdb.com/title/tt7816420/\"&gt;&lt;img src=\"/static/nopass.png\" alt=\"[[0]]\" title=\"[Fewer than two women in this movie]\"&gt;&lt;/a&gt;\\n\\t\\t&lt;a id=\"movie-9816\" href=\"/view/9816/athlete_swinging_a_pick/\"&gt;Athlete Swinging a Pick&lt;/a&gt;   &lt;a href=\"/view/9816/athlete_swinging_a_pick/\" onclick=\"showComments('9816'); return false;\"&gt;&lt;img src=\"/static/comments.png\" alt=\"[1 comment(s) available]\"\\n\\t\\t\\t\\tid=\"comment-img-9816\" style=\"height: 10px; width: 10px;\"\\n                title=\"1 comment\"&gt;&lt;/a&gt;  &lt;/div&gt;</td>\n",
       "      <td>1881</td>\n",
       "    </tr>\n",
       "  </tbody>\n",
       "</table>\n",
       "</div>"
      ],
      "text/plain": [
       "                                                                                                                                                                                                                                                                                                                                                                                                                                                                                                                                                                                                                                                                                                                                                                                                                                                                                                                                                                                                                              DownloadData  \\\n",
       "0  <a href=\"http://us.imdb.com/title/tt3155794/\"><img src=\"/static/nopass.png\" alt=\"[[0]]\" title=\"[Fewer than two women in this movie]\"></a>\\n\\t\\t<a id=\"movie-9602\" href=\"/view/9602/passage_de_venus/\">Passage de Venus</a>   <a href=\"/view/9602/passage_de_venus/\" onclick=\"showComments('9602'); return false;\"><img src=\"/static/comments.png\" alt=\"[1 comment(s) available]\"\\n\\t\\t\\t\\tid=\"comment-img-9602\" style=\"height: 10px; width: 10px;\"\\n                title=\"1 comment\"></a>  </div> <div style=\"border: 2px dashed white; margin-top: 3px; margin-right: 14px; padding: 3px; background-color: #CFE8CC; text-align: center;\">  <div style=\"margin-top: 7px; font-size: 80%;\"><a href=\"/search/\">You can also search or list per year</a>, or <a href=\"?list=all\">list all movies</a>.</div>\\n</div>\\n</div>\\n\\n<div>\\n<h2>About</h2>\\n<p>The <b>Bechdel Test</b>, or <b><a href=\"https://www.independent.co.uk/arts-entertainment/films/news/please-stop-calling-it-the-bechdel-test-says-alison-bechdel-10474730.htm...   \n",
       "1                                                                                                                                                                                                                                                                                                                                                                                                                                                                                                                                   <a href=\"http://us.imdb.com/title/tt14495706/\"><img src=\"/static/nopass.png\" alt=\"[[0]]\" title=\"[Fewer than two women in this movie]\"></a>\\n\\t\\t<a id=\"movie-9804\" href=\"/view/9804/la_rosace_magique/\">La Rosace Magique</a>   <a href=\"/view/9804/la_rosace_magique/\" onclick=\"showComments('9804'); return false;\"><img src=\"/static/comments.png\" alt=\"[1 comment(s) available]\"\\n\\t\\t\\t\\tid=\"comment-img-9804\" style=\"height: 10px; width: 10px;\"\\n                title=\"1 comment\"></a>  </div>   \n",
       "2                                                                                                                                                                                                                                                                                                                                                                                                                                                                                                                                   <a href=\"http://us.imdb.com/title/tt12592084/\"><img src=\"/static/nopass.png\" alt=\"[[0]]\" title=\"[Fewer than two women in this movie]\"></a>\\n\\t\\t<a id=\"movie-9806\" href=\"/view/9806/le_singe_musicien/\">Le singe musicien</a>   <a href=\"/view/9806/le_singe_musicien/\" onclick=\"showComments('9806'); return false;\"><img src=\"/static/comments.png\" alt=\"[1 comment(s) available]\"\\n\\t\\t\\t\\tid=\"comment-img-9806\" style=\"height: 10px; width: 10px;\"\\n                title=\"1 comment\"></a>  </div>   \n",
       "3                                                                                                                                                                                                                                                                                                                                                                                                                                                                                                         <a href=\"http://us.imdb.com/title/tt2221420/\"><img src=\"/static/nopass.png\" alt=\"[[0]]\" title=\"[Fewer than two women in this movie]\"></a>\\n\\t\\t<a id=\"movie-9603\" href=\"/view/9603/sallie_gardner_at_a_gallop/\">Sallie Gardner at a Gallop</a>   <a href=\"/view/9603/sallie_gardner_at_a_gallop/\" onclick=\"showComments('9603'); return false;\"><img src=\"/static/comments.png\" alt=\"[1 comment(s) available]\"\\n\\t\\t\\t\\tid=\"comment-img-9603\" style=\"height: 10px; width: 10px;\"\\n                title=\"1 comment\"></a>  </div>   \n",
       "4                                                                                                                                                                                                                                                                                                                                                                                                                                                                                                                  <a href=\"http://us.imdb.com/title/tt7816420/\"><img src=\"/static/nopass.png\" alt=\"[[0]]\" title=\"[Fewer than two women in this movie]\"></a>\\n\\t\\t<a id=\"movie-9816\" href=\"/view/9816/athlete_swinging_a_pick/\">Athlete Swinging a Pick</a>   <a href=\"/view/9816/athlete_swinging_a_pick/\" onclick=\"showComments('9816'); return false;\"><img src=\"/static/comments.png\" alt=\"[1 comment(s) available]\"\\n\\t\\t\\t\\tid=\"comment-img-9816\" style=\"height: 10px; width: 10px;\"\\n                title=\"1 comment\"></a>  </div>   \n",
       "\n",
       "   Year  \n",
       "0  1874  \n",
       "1  1877  \n",
       "2  1878  \n",
       "3  1878  \n",
       "4  1881  "
      ]
     },
     "execution_count": 432,
     "metadata": {},
     "output_type": "execute_result"
    }
   ],
   "source": [
    "pd.set_option(\"display.max_colwidth\", 1000)\n",
    "df_web.head()"
   ]
  },
  {
   "cell_type": "code",
   "execution_count": 433,
   "metadata": {},
   "outputs": [
    {
     "data": {
      "text/html": [
       "<div>\n",
       "<style scoped>\n",
       "    .dataframe tbody tr th:only-of-type {\n",
       "        vertical-align: middle;\n",
       "    }\n",
       "\n",
       "    .dataframe tbody tr th {\n",
       "        vertical-align: top;\n",
       "    }\n",
       "\n",
       "    .dataframe thead th {\n",
       "        text-align: right;\n",
       "    }\n",
       "</style>\n",
       "<table border=\"1\" class=\"dataframe\">\n",
       "  <thead>\n",
       "    <tr style=\"text-align: right;\">\n",
       "      <th></th>\n",
       "      <th>Char</th>\n",
       "      <th>Numeric</th>\n",
       "      <th>Named</th>\n",
       "      <th>Description</th>\n",
       "    </tr>\n",
       "  </thead>\n",
       "  <tbody>\n",
       "    <tr>\n",
       "      <th>0</th>\n",
       "      <td>NaN</td>\n",
       "      <td>code</td>\n",
       "      <td>code</td>\n",
       "      <td>NaN</td>\n",
       "    </tr>\n",
       "    <tr>\n",
       "      <th>1</th>\n",
       "      <td>NaN</td>\n",
       "      <td>&amp;#32;</td>\n",
       "      <td>NaN</td>\n",
       "      <td>space</td>\n",
       "    </tr>\n",
       "    <tr>\n",
       "      <th>2</th>\n",
       "      <td>!</td>\n",
       "      <td>&amp;#33;</td>\n",
       "      <td>NaN</td>\n",
       "      <td>exclamation mark</td>\n",
       "    </tr>\n",
       "    <tr>\n",
       "      <th>3</th>\n",
       "      <td>\"</td>\n",
       "      <td>&amp;#34;</td>\n",
       "      <td>&amp;quot;</td>\n",
       "      <td>double quote</td>\n",
       "    </tr>\n",
       "    <tr>\n",
       "      <th>4</th>\n",
       "      <td>#</td>\n",
       "      <td>&amp;#35;</td>\n",
       "      <td>NaN</td>\n",
       "      <td>number</td>\n",
       "    </tr>\n",
       "  </tbody>\n",
       "</table>\n",
       "</div>"
      ],
      "text/plain": [
       "  Char Numeric   Named       Description\n",
       "0  NaN    code    code               NaN\n",
       "1  NaN   &#32;     NaN             space\n",
       "2    !   &#33;     NaN  exclamation mark\n",
       "3    \"   &#34;  &quot;      double quote\n",
       "4    #   &#35;     NaN            number"
      ]
     },
     "execution_count": 433,
     "metadata": {},
     "output_type": "execute_result"
    }
   ],
   "source": [
    "df_html.head()"
   ]
  },
  {
   "cell_type": "code",
   "execution_count": 434,
   "metadata": {},
   "outputs": [],
   "source": [
    "df_html.iat[1,0] = ' '\n",
    "df_html = df_html.iloc[1:]\n",
    "html_num_to_char = dict(zip(df_html['Numeric'], df_html['Char']))"
   ]
  },
  {
   "cell_type": "code",
   "execution_count": 435,
   "metadata": {},
   "outputs": [],
   "source": [
    "df_html = df_html.dropna(subset=['Named'])\n",
    "html_named_to_char = dict(zip(df_html['Named'], df_html['Char']))"
   ]
  },
  {
   "cell_type": "code",
   "execution_count": 436,
   "metadata": {},
   "outputs": [],
   "source": [
    "html_amp_to_and = {'&amp;':'&'}"
   ]
  },
  {
   "cell_type": "code",
   "execution_count": 437,
   "metadata": {},
   "outputs": [],
   "source": [
    "for k,v in html_amp_to_and.items():\n",
    "    df_web['DownloadData'] = df_web['DownloadData'].apply(lambda df_x : df_x.replace(repr(k), repr(v)))\n",
    "\n",
    "for k,v in html_num_to_char.items():\n",
    "    df_web['DownloadData'] = df_web['DownloadData'].apply(lambda df_x : df_x.replace(repr(k), repr(v)))\n",
    "    \n",
    "for k,v in html_named_to_char.items():\n",
    "    df_web['DownloadData'] = df_web['DownloadData'].apply(lambda df_x : df_x.replace(repr(k), repr(v)))"
   ]
  },
  {
   "cell_type": "code",
   "execution_count": 438,
   "metadata": {},
   "outputs": [
    {
     "data": {
      "text/plain": [
       "'<a href=\"http://us.imdb.com/title/tt0258104/\"><img src=\"/static/nopass.png\" alt=\"[[0]]\" title=\"[Fewer than two women in this movie]\"></a>\\n\\t\\t<a id=\"movie-5437\" href=\"/view/5437/reve_et_realite/\">Reve et realite</a>   </div>'"
      ]
     },
     "execution_count": 438,
     "metadata": {},
     "output_type": "execute_result"
    }
   ],
   "source": [
    "df_web.iat[100,0]"
   ]
  },
  {
   "cell_type": "code",
   "execution_count": 439,
   "metadata": {},
   "outputs": [],
   "source": [
    "# str.replaceを続けてくっつけると、エラーを吐き出す\n",
    "df_web['Categorisation'] = df_web['DownloadData'].str.extract('title=\"(.+)]\"></a', expand=True)\n",
    "df_web['Categorisation'] = df_web['Categorisation'].str.replace('[', '')"
   ]
  },
  {
   "cell_type": "code",
   "execution_count": 440,
   "metadata": {},
   "outputs": [],
   "source": [
    "df_web['Movie'] = df_web['DownloadData'].str.extract('href=\"/view/(.+)</a>', expand=True)\n",
    "df_web['Movie'] = df_web['Movie'].str.split('\">', expand=True)[1]"
   ]
  },
  {
   "cell_type": "code",
   "execution_count": 441,
   "metadata": {},
   "outputs": [],
   "source": [
    "df_web['Pass/Fail'] = df_web[\"DownloadData\"].apply(lambda df_x: 'Fail' if 'nopass.png' in df_x else 'Pass')"
   ]
  },
  {
   "cell_type": "code",
   "execution_count": 442,
   "metadata": {},
   "outputs": [
    {
     "data": {
      "text/plain": [
       "0                                                                                            Fewer than two women in this movie\n",
       "64                                                 There are two or more women in this movie, but they don't talk to each other\n",
       "86                       There are two or more women in this movie and they talk to each other about something other than a man\n",
       "128                                     There are two or more women in this movie, but they only talk to each other about a man\n",
       "150    There are two or more women in this movie and they talk to each other about something other than a man, although dubious\n",
       "Name: Categorisation, dtype: object"
      ]
     },
     "execution_count": 442,
     "metadata": {},
     "output_type": "execute_result"
    }
   ],
   "source": [
    "df_web['Categorisation'].drop_duplicates()"
   ]
  },
  {
   "cell_type": "code",
   "execution_count": 443,
   "metadata": {},
   "outputs": [],
   "source": [
    "Categori_rank = {\"Fewer than two women in this movie\": 5,\n",
    "\"There are two or more women in this movie, but they don't talk to each other\": 4,\n",
    "\"There are two or more women in this movie and they talk to each other about something other than a man\": 1,\n",
    "\"There are two or more women in this movie, but they only talk to each other about a man\": 3,\n",
    "\"There are two or more women in this movie and they talk to each other about something other than a man, although dubious\": 2}\n",
    "\n",
    "df_web['Ranking'] = df_web['Categorisation'].map(Categori_rank)"
   ]
  },
  {
   "cell_type": "code",
   "execution_count": 444,
   "metadata": {},
   "outputs": [],
   "source": [
    "col = ['Movie', 'Year', 'Pass/Fail', 'Ranking', 'Categorisation']\n",
    "df_web.to_csv('output/output-2022', columns=col, index=False)"
   ]
  },
  {
   "cell_type": "code",
   "execution_count": 445,
   "metadata": {},
   "outputs": [
    {
     "data": {
      "text/html": [
       "<div>\n",
       "<style scoped>\n",
       "    .dataframe tbody tr th:only-of-type {\n",
       "        vertical-align: middle;\n",
       "    }\n",
       "\n",
       "    .dataframe tbody tr th {\n",
       "        vertical-align: top;\n",
       "    }\n",
       "\n",
       "    .dataframe thead th {\n",
       "        text-align: right;\n",
       "    }\n",
       "</style>\n",
       "<table border=\"1\" class=\"dataframe\">\n",
       "  <thead>\n",
       "    <tr style=\"text-align: right;\">\n",
       "      <th></th>\n",
       "      <th>Movie</th>\n",
       "      <th>Year</th>\n",
       "      <th>Pass/Fail</th>\n",
       "      <th>Ranking</th>\n",
       "      <th>Categorisation</th>\n",
       "    </tr>\n",
       "  </thead>\n",
       "  <tbody>\n",
       "    <tr>\n",
       "      <th>0</th>\n",
       "      <td>Passage de Venus</td>\n",
       "      <td>1874</td>\n",
       "      <td>Fail</td>\n",
       "      <td>5</td>\n",
       "      <td>Fewer than two women in this movie</td>\n",
       "    </tr>\n",
       "    <tr>\n",
       "      <th>1</th>\n",
       "      <td>La Rosace Magique</td>\n",
       "      <td>1877</td>\n",
       "      <td>Fail</td>\n",
       "      <td>5</td>\n",
       "      <td>Fewer than two women in this movie</td>\n",
       "    </tr>\n",
       "    <tr>\n",
       "      <th>2</th>\n",
       "      <td>Le singe musicien</td>\n",
       "      <td>1878</td>\n",
       "      <td>Fail</td>\n",
       "      <td>5</td>\n",
       "      <td>Fewer than two women in this movie</td>\n",
       "    </tr>\n",
       "    <tr>\n",
       "      <th>3</th>\n",
       "      <td>Sallie Gardner at a Gallop</td>\n",
       "      <td>1878</td>\n",
       "      <td>Fail</td>\n",
       "      <td>5</td>\n",
       "      <td>Fewer than two women in this movie</td>\n",
       "    </tr>\n",
       "    <tr>\n",
       "      <th>4</th>\n",
       "      <td>Athlete Swinging a Pick</td>\n",
       "      <td>1881</td>\n",
       "      <td>Fail</td>\n",
       "      <td>5</td>\n",
       "      <td>Fewer than two women in this movie</td>\n",
       "    </tr>\n",
       "  </tbody>\n",
       "</table>\n",
       "</div>"
      ],
      "text/plain": [
       "                        Movie  Year Pass/Fail  Ranking  \\\n",
       "0            Passage de Venus  1874      Fail        5   \n",
       "1           La Rosace Magique  1877      Fail        5   \n",
       "2           Le singe musicien  1878      Fail        5   \n",
       "3  Sallie Gardner at a Gallop  1878      Fail        5   \n",
       "4     Athlete Swinging a Pick  1881      Fail        5   \n",
       "\n",
       "                       Categorisation  \n",
       "0  Fewer than two women in this movie  \n",
       "1  Fewer than two women in this movie  \n",
       "2  Fewer than two women in this movie  \n",
       "3  Fewer than two women in this movie  \n",
       "4  Fewer than two women in this movie  "
      ]
     },
     "execution_count": 445,
     "metadata": {},
     "output_type": "execute_result"
    }
   ],
   "source": [
    "output = pd.read_csv('output/output-2022')\n",
    "output.head()"
   ]
  },
  {
   "cell_type": "code",
   "execution_count": 447,
   "metadata": {},
   "outputs": [
    {
     "data": {
      "text/plain": [
       "Year  Ranking\n",
       "1874  5           1\n",
       "1877  5           1\n",
       "1878  5           2\n",
       "1881  5           1\n",
       "1883  5           1\n",
       "                 ..\n",
       "2021  2          12\n",
       "      3          13\n",
       "      4          12\n",
       "      5          10\n",
       "2022  1           1\n",
       "Name: Movie, Length: 528, dtype: int64"
      ]
     },
     "execution_count": 447,
     "metadata": {},
     "output_type": "execute_result"
    }
   ],
   "source": [
    "output.groupby(by=['Year', 'Ranking'])['Movie'].count()"
   ]
  },
  {
   "cell_type": "code",
   "execution_count": null,
   "metadata": {},
   "outputs": [],
   "source": []
  }
 ],
 "metadata": {
  "kernelspec": {
   "display_name": "Python 3",
   "language": "python",
   "name": "python3"
  },
  "language_info": {
   "codemirror_mode": {
    "name": "ipython",
    "version": 3
   },
   "file_extension": ".py",
   "mimetype": "text/x-python",
   "name": "python",
   "nbconvert_exporter": "python",
   "pygments_lexer": "ipython3",
   "version": "3.7.6"
  }
 },
 "nbformat": 4,
 "nbformat_minor": 4
}
