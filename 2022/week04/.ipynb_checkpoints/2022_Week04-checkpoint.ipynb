{
 "cells": [
  {
   "cell_type": "code",
   "execution_count": 5,
   "metadata": {},
   "outputs": [],
   "source": [
    "import pandas as pd\n",
    "import numpy as np"
   ]
  },
  {
   "cell_type": "code",
   "execution_count": 6,
   "metadata": {},
   "outputs": [],
   "source": [
    "df = pd.read_excel('input/PD 2021 WK 1 to 4 ideas - Preferences of Travel.xlsx')"
   ]
  },
  {
   "cell_type": "code",
   "execution_count": 8,
   "metadata": {},
   "outputs": [
    {
     "data": {
      "text/html": [
       "<div>\n",
       "<style scoped>\n",
       "    .dataframe tbody tr th:only-of-type {\n",
       "        vertical-align: middle;\n",
       "    }\n",
       "\n",
       "    .dataframe tbody tr th {\n",
       "        vertical-align: top;\n",
       "    }\n",
       "\n",
       "    .dataframe thead th {\n",
       "        text-align: right;\n",
       "    }\n",
       "</style>\n",
       "<table border=\"1\" class=\"dataframe\">\n",
       "  <thead>\n",
       "    <tr style=\"text-align: right;\">\n",
       "      <th></th>\n",
       "      <th>Student ID</th>\n",
       "      <th>M</th>\n",
       "      <th>Tu</th>\n",
       "      <th>W</th>\n",
       "      <th>Th</th>\n",
       "      <th>F</th>\n",
       "    </tr>\n",
       "  </thead>\n",
       "  <tbody>\n",
       "    <tr>\n",
       "      <th>0</th>\n",
       "      <td>1</td>\n",
       "      <td>Car</td>\n",
       "      <td>Car</td>\n",
       "      <td>Car</td>\n",
       "      <td>Car</td>\n",
       "      <td>Bycycle</td>\n",
       "    </tr>\n",
       "    <tr>\n",
       "      <th>1</th>\n",
       "      <td>2</td>\n",
       "      <td>Bicycle</td>\n",
       "      <td>Bicycle</td>\n",
       "      <td>Bicycle</td>\n",
       "      <td>Walk</td>\n",
       "      <td>Walk</td>\n",
       "    </tr>\n",
       "    <tr>\n",
       "      <th>2</th>\n",
       "      <td>3</td>\n",
       "      <td>Car</td>\n",
       "      <td>Bicycle</td>\n",
       "      <td>Carr</td>\n",
       "      <td>Walk</td>\n",
       "      <td>Car</td>\n",
       "    </tr>\n",
       "    <tr>\n",
       "      <th>3</th>\n",
       "      <td>4</td>\n",
       "      <td>Scooter</td>\n",
       "      <td>Scooter</td>\n",
       "      <td>Scootr</td>\n",
       "      <td>Scooter</td>\n",
       "      <td>Scoter</td>\n",
       "    </tr>\n",
       "    <tr>\n",
       "      <th>4</th>\n",
       "      <td>5</td>\n",
       "      <td>Bycycle</td>\n",
       "      <td>Carr</td>\n",
       "      <td>Scoter</td>\n",
       "      <td>Walkk</td>\n",
       "      <td>Scoter</td>\n",
       "    </tr>\n",
       "  </tbody>\n",
       "</table>\n",
       "</div>"
      ],
      "text/plain": [
       "   Student ID        M       Tu        W       Th        F\n",
       "0           1      Car      Car      Car      Car  Bycycle\n",
       "1           2  Bicycle  Bicycle  Bicycle     Walk     Walk\n",
       "2           3      Car  Bicycle     Carr     Walk      Car\n",
       "3           4  Scooter  Scooter   Scootr  Scooter   Scoter\n",
       "4           5  Bycycle     Carr   Scoter    Walkk   Scoter"
      ]
     },
     "execution_count": 8,
     "metadata": {},
     "output_type": "execute_result"
    }
   ],
   "source": [
    "df = df[['Student ID', 'M', 'Tu', 'W', 'Th', 'F']]\n",
    "df.head()"
   ]
  },
  {
   "cell_type": "code",
   "execution_count": 9,
   "metadata": {},
   "outputs": [
    {
     "data": {
      "text/html": [
       "<div>\n",
       "<style scoped>\n",
       "    .dataframe tbody tr th:only-of-type {\n",
       "        vertical-align: middle;\n",
       "    }\n",
       "\n",
       "    .dataframe tbody tr th {\n",
       "        vertical-align: top;\n",
       "    }\n",
       "\n",
       "    .dataframe thead th {\n",
       "        text-align: right;\n",
       "    }\n",
       "</style>\n",
       "<table border=\"1\" class=\"dataframe\">\n",
       "  <thead>\n",
       "    <tr style=\"text-align: right;\">\n",
       "      <th></th>\n",
       "      <th>Student ID</th>\n",
       "      <th>Weekday</th>\n",
       "      <th>Method of Travel</th>\n",
       "    </tr>\n",
       "  </thead>\n",
       "  <tbody>\n",
       "    <tr>\n",
       "      <th>0</th>\n",
       "      <td>1</td>\n",
       "      <td>M</td>\n",
       "      <td>Car</td>\n",
       "    </tr>\n",
       "    <tr>\n",
       "      <th>1</th>\n",
       "      <td>2</td>\n",
       "      <td>M</td>\n",
       "      <td>Bicycle</td>\n",
       "    </tr>\n",
       "    <tr>\n",
       "      <th>2</th>\n",
       "      <td>3</td>\n",
       "      <td>M</td>\n",
       "      <td>Car</td>\n",
       "    </tr>\n",
       "    <tr>\n",
       "      <th>3</th>\n",
       "      <td>4</td>\n",
       "      <td>M</td>\n",
       "      <td>Scooter</td>\n",
       "    </tr>\n",
       "    <tr>\n",
       "      <th>4</th>\n",
       "      <td>5</td>\n",
       "      <td>M</td>\n",
       "      <td>Bycycle</td>\n",
       "    </tr>\n",
       "  </tbody>\n",
       "</table>\n",
       "</div>"
      ],
      "text/plain": [
       "   Student ID Weekday Method of Travel\n",
       "0           1       M              Car\n",
       "1           2       M          Bicycle\n",
       "2           3       M              Car\n",
       "3           4       M          Scooter\n",
       "4           5       M          Bycycle"
      ]
     },
     "execution_count": 9,
     "metadata": {},
     "output_type": "execute_result"
    }
   ],
   "source": [
    "df = pd.melt(df, id_vars='Student ID', var_name='Weekday', value_name='Method of Travel')\n",
    "df.head()"
   ]
  },
  {
   "cell_type": "code",
   "execution_count": 10,
   "metadata": {},
   "outputs": [
    {
     "data": {
      "text/plain": [
       "['Aeroplane',\n",
       " 'Bicycle',\n",
       " 'Bycycle',\n",
       " 'Car',\n",
       " 'Carr',\n",
       " \"Dad's Shoulders\",\n",
       " 'Helicopeter',\n",
       " 'Helicopter',\n",
       " 'Hopped',\n",
       " 'Jumped',\n",
       " \"Mum's Shoulders\",\n",
       " 'Scooter',\n",
       " 'Scootr',\n",
       " 'Scoter',\n",
       " 'Skipped',\n",
       " 'Van',\n",
       " 'WAlk',\n",
       " 'Waalk',\n",
       " 'Walk',\n",
       " 'Walkk',\n",
       " 'Wallk']"
      ]
     },
     "execution_count": 10,
     "metadata": {},
     "output_type": "execute_result"
    }
   ],
   "source": [
    "sorted(list(df['Method of Travel'].drop_duplicates()))"
   ]
  },
  {
   "cell_type": "code",
   "execution_count": 11,
   "metadata": {},
   "outputs": [],
   "source": [
    "travel_method_renames = {'Bycycle' : 'Bicycle',\n",
    "                         'Carr' : 'Car',\n",
    "                         'Helicopeter' : 'Helicopter',\n",
    "                         'Scootr' : 'Scooter', 'Scoter' : 'Scooter',\n",
    "                         'WAlk' : 'Walk', 'Waalk' : 'Walk', 'Wallk' : 'Walk', 'Walkk' : 'Walk'}\n",
    "\n",
    "sustainable_methods = ['Bicycle', \"Dad's Shoulders\", 'Hopped', 'Jumped', \"Mum's Shoulders\", \n",
    "                       'Scooter', 'Skipped', 'Walk']"
   ]
  },
  {
   "cell_type": "code",
   "execution_count": 13,
   "metadata": {},
   "outputs": [],
   "source": [
    "df['Method of Travel'] = df['Method of Travel'].replace(travel_method_renames)\n",
    "df['Sustainable?'] = df['Method of Travel'].apply(lambda x:'Sustainable' if x in sustainable_methods else 'Non-Sustainable')"
   ]
  },
  {
   "cell_type": "code",
   "execution_count": 14,
   "metadata": {},
   "outputs": [
    {
     "data": {
      "text/html": [
       "<div>\n",
       "<style scoped>\n",
       "    .dataframe tbody tr th:only-of-type {\n",
       "        vertical-align: middle;\n",
       "    }\n",
       "\n",
       "    .dataframe tbody tr th {\n",
       "        vertical-align: top;\n",
       "    }\n",
       "\n",
       "    .dataframe thead th {\n",
       "        text-align: right;\n",
       "    }\n",
       "</style>\n",
       "<table border=\"1\" class=\"dataframe\">\n",
       "  <thead>\n",
       "    <tr style=\"text-align: right;\">\n",
       "      <th></th>\n",
       "      <th>Student ID</th>\n",
       "      <th>Weekday</th>\n",
       "      <th>Method of Travel</th>\n",
       "      <th>Sustainable?</th>\n",
       "    </tr>\n",
       "  </thead>\n",
       "  <tbody>\n",
       "    <tr>\n",
       "      <th>0</th>\n",
       "      <td>1</td>\n",
       "      <td>M</td>\n",
       "      <td>Car</td>\n",
       "      <td>Non-Sustainable</td>\n",
       "    </tr>\n",
       "    <tr>\n",
       "      <th>1</th>\n",
       "      <td>2</td>\n",
       "      <td>M</td>\n",
       "      <td>Bicycle</td>\n",
       "      <td>Sustainable</td>\n",
       "    </tr>\n",
       "    <tr>\n",
       "      <th>2</th>\n",
       "      <td>3</td>\n",
       "      <td>M</td>\n",
       "      <td>Car</td>\n",
       "      <td>Non-Sustainable</td>\n",
       "    </tr>\n",
       "    <tr>\n",
       "      <th>3</th>\n",
       "      <td>4</td>\n",
       "      <td>M</td>\n",
       "      <td>Scooter</td>\n",
       "      <td>Sustainable</td>\n",
       "    </tr>\n",
       "    <tr>\n",
       "      <th>4</th>\n",
       "      <td>5</td>\n",
       "      <td>M</td>\n",
       "      <td>Bicycle</td>\n",
       "      <td>Sustainable</td>\n",
       "    </tr>\n",
       "  </tbody>\n",
       "</table>\n",
       "</div>"
      ],
      "text/plain": [
       "   Student ID Weekday Method of Travel     Sustainable?\n",
       "0           1       M              Car  Non-Sustainable\n",
       "1           2       M          Bicycle      Sustainable\n",
       "2           3       M              Car  Non-Sustainable\n",
       "3           4       M          Scooter      Sustainable\n",
       "4           5       M          Bicycle      Sustainable"
      ]
     },
     "execution_count": 14,
     "metadata": {},
     "output_type": "execute_result"
    }
   ],
   "source": [
    "df.head()"
   ]
  },
  {
   "cell_type": "code",
   "execution_count": 15,
   "metadata": {},
   "outputs": [],
   "source": [
    "df = df.groupby(['Sustainable?', 'Method of Travel', 'Weekday'])\\\n",
    "    .agg(Number_of_Trips=('Student ID', 'count'))\\\n",
    "    .assign(Trips_per_day = lambda df_x: df_x.groupby('Weekday')['Number_of_Trips'].transform('sum'),\n",
    "            Pct_of_trips_per_day = lambda df_x: df_x['Number_of_Trips'] / df_x['Trips_per_day'].round(2))\\\n",
    "    .rename(columns=lambda c: c.replace('_', ' ').replace('Pct', '%'))"
   ]
  },
  {
   "cell_type": "code",
   "execution_count": 19,
   "metadata": {},
   "outputs": [],
   "source": [
    "df.to_csv('output/output-2020-week04.csv')"
   ]
  },
  {
   "cell_type": "code",
   "execution_count": 20,
   "metadata": {},
   "outputs": [
    {
     "data": {
      "text/html": [
       "<div>\n",
       "<style scoped>\n",
       "    .dataframe tbody tr th:only-of-type {\n",
       "        vertical-align: middle;\n",
       "    }\n",
       "\n",
       "    .dataframe tbody tr th {\n",
       "        vertical-align: top;\n",
       "    }\n",
       "\n",
       "    .dataframe thead th {\n",
       "        text-align: right;\n",
       "    }\n",
       "</style>\n",
       "<table border=\"1\" class=\"dataframe\">\n",
       "  <thead>\n",
       "    <tr style=\"text-align: right;\">\n",
       "      <th></th>\n",
       "      <th>Sustainable?</th>\n",
       "      <th>Method of Travel</th>\n",
       "      <th>Weekday</th>\n",
       "      <th>Number of Trips</th>\n",
       "      <th>Trips per day</th>\n",
       "      <th>% of trips per day</th>\n",
       "    </tr>\n",
       "  </thead>\n",
       "  <tbody>\n",
       "    <tr>\n",
       "      <th>0</th>\n",
       "      <td>Non-Sustainable</td>\n",
       "      <td>Aeroplane</td>\n",
       "      <td>F</td>\n",
       "      <td>9</td>\n",
       "      <td>1000</td>\n",
       "      <td>0.009</td>\n",
       "    </tr>\n",
       "    <tr>\n",
       "      <th>1</th>\n",
       "      <td>Non-Sustainable</td>\n",
       "      <td>Aeroplane</td>\n",
       "      <td>M</td>\n",
       "      <td>9</td>\n",
       "      <td>1000</td>\n",
       "      <td>0.009</td>\n",
       "    </tr>\n",
       "    <tr>\n",
       "      <th>2</th>\n",
       "      <td>Non-Sustainable</td>\n",
       "      <td>Aeroplane</td>\n",
       "      <td>Th</td>\n",
       "      <td>9</td>\n",
       "      <td>1000</td>\n",
       "      <td>0.009</td>\n",
       "    </tr>\n",
       "    <tr>\n",
       "      <th>3</th>\n",
       "      <td>Non-Sustainable</td>\n",
       "      <td>Aeroplane</td>\n",
       "      <td>Tu</td>\n",
       "      <td>9</td>\n",
       "      <td>1000</td>\n",
       "      <td>0.009</td>\n",
       "    </tr>\n",
       "    <tr>\n",
       "      <th>4</th>\n",
       "      <td>Non-Sustainable</td>\n",
       "      <td>Aeroplane</td>\n",
       "      <td>W</td>\n",
       "      <td>9</td>\n",
       "      <td>1000</td>\n",
       "      <td>0.009</td>\n",
       "    </tr>\n",
       "  </tbody>\n",
       "</table>\n",
       "</div>"
      ],
      "text/plain": [
       "      Sustainable? Method of Travel Weekday  Number of Trips  Trips per day  \\\n",
       "0  Non-Sustainable        Aeroplane       F                9           1000   \n",
       "1  Non-Sustainable        Aeroplane       M                9           1000   \n",
       "2  Non-Sustainable        Aeroplane      Th                9           1000   \n",
       "3  Non-Sustainable        Aeroplane      Tu                9           1000   \n",
       "4  Non-Sustainable        Aeroplane       W                9           1000   \n",
       "\n",
       "   % of trips per day  \n",
       "0               0.009  \n",
       "1               0.009  \n",
       "2               0.009  \n",
       "3               0.009  \n",
       "4               0.009  "
      ]
     },
     "execution_count": 20,
     "metadata": {},
     "output_type": "execute_result"
    }
   ],
   "source": [
    "output = pd.read_csv('output/output-2020-week04.csv')\n",
    "output.head()"
   ]
  }
 ],
 "metadata": {
  "kernelspec": {
   "display_name": "Python 3",
   "language": "python",
   "name": "python3"
  },
  "language_info": {
   "codemirror_mode": {
    "name": "ipython",
    "version": 3
   },
   "file_extension": ".py",
   "mimetype": "text/x-python",
   "name": "python",
   "nbconvert_exporter": "python",
   "pygments_lexer": "ipython3",
   "version": "3.7.6"
  }
 },
 "nbformat": 4,
 "nbformat_minor": 4
}
