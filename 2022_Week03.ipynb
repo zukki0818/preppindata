{
 "cells": [
  {
   "cell_type": "code",
   "execution_count": 13,
   "metadata": {},
   "outputs": [],
   "source": [
    "import numpy as np\n",
    "import pandas as pd"
   ]
  },
  {
   "cell_type": "code",
   "execution_count": 14,
   "metadata": {},
   "outputs": [],
   "source": [
    "df = pd.read_csv('data/PD 2022 Wk 1 Input - Input.csv')\n",
    "df_grade = pd.read_csv('data/PD 2022 WK 3 Grades.csv')"
   ]
  },
  {
   "cell_type": "code",
   "execution_count": 15,
   "metadata": {},
   "outputs": [],
   "source": [
    "# Join the data sets together to give us the grades per student\n",
    "df = df.merge(df_grade, how='left', left_on='id', right_on='Student ID')"
   ]
  },
  {
   "cell_type": "code",
   "execution_count": 16,
   "metadata": {},
   "outputs": [],
   "source": [
    "# Remove the parental data fields, they aren't needed for the challenge this week\n",
    "df.drop(columns=['id', 'Parental Contact Name_1', 'Parental Contact Name_2',\\\n",
    "                 'Preferred Contact Employer', 'Parental Contact'],\n",
    "       inplace=True)"
   ]
  },
  {
   "cell_type": "code",
   "execution_count": 17,
   "metadata": {},
   "outputs": [],
   "source": [
    "# Pivot the data to create one row of data per student and subject -> skip\n",
    "# Rename the pivoted fields to Subject and Score -> skip"
   ]
  },
  {
   "cell_type": "code",
   "execution_count": 18,
   "metadata": {},
   "outputs": [],
   "source": [
    "# Create an average score per student based on all of their grades\n",
    "# Round the average score per student to one decimal place\n",
    "df[\"Student's Avg Score\"] = (df['Maths'] + df['English'] + df['Spanish'] \\\n",
    "                            + df['Science'] + df['Art'] + df['History'] + df['Geography']) / 7\n",
    "df[\"Student's Avg Score\"] = df[\"Student's Avg Score\"].apply(lambda x : round(x, 1))"
   ]
  },
  {
   "cell_type": "code",
   "execution_count": 32,
   "metadata": {},
   "outputs": [],
   "source": [
    "# Create a field that records whether the student passed each subject -> skip\n",
    "# Pass mark is 75 and above in all subjects\n",
    "# Aggregate the data per student to count how many subjects each student passed\n",
    "df['Passed Subjects'] = 0\n",
    "subjects = [df['Maths'], df['English'], df['Spanish'], df['Science'], df['Art'], df['History'], df['Geography']]\n",
    "for subject in subjects:\n",
    "    df['Passed Subjects'] += subject.apply(lambda x: 1 if x >= 75 else 0)"
   ]
  },
  {
   "cell_type": "code",
   "execution_count": 37,
   "metadata": {},
   "outputs": [],
   "source": [
    "df.rename(columns={'gender':'Gender'}, inplace=True)"
   ]
  },
  {
   "cell_type": "code",
   "execution_count": 41,
   "metadata": {},
   "outputs": [],
   "source": [
    "# Remove any unnecessary fields and output the data\n",
    "cols = ['Passed Subjects', \"Student's Avg Score\", 'Student ID', 'Gender']\n",
    "df.to_csv('output-2022-week03.csv', index=False, columns=cols)"
   ]
  },
  {
   "cell_type": "code",
   "execution_count": 43,
   "metadata": {},
   "outputs": [
    {
     "data": {
      "text/html": [
       "<div>\n",
       "<style scoped>\n",
       "    .dataframe tbody tr th:only-of-type {\n",
       "        vertical-align: middle;\n",
       "    }\n",
       "\n",
       "    .dataframe tbody tr th {\n",
       "        vertical-align: top;\n",
       "    }\n",
       "\n",
       "    .dataframe thead th {\n",
       "        text-align: right;\n",
       "    }\n",
       "</style>\n",
       "<table border=\"1\" class=\"dataframe\">\n",
       "  <thead>\n",
       "    <tr style=\"text-align: right;\">\n",
       "      <th></th>\n",
       "      <th>Passed Subjects</th>\n",
       "      <th>Student's Avg Score</th>\n",
       "      <th>Student ID</th>\n",
       "      <th>Gender</th>\n",
       "    </tr>\n",
       "  </thead>\n",
       "  <tbody>\n",
       "    <tr>\n",
       "      <th>0</th>\n",
       "      <td>6</td>\n",
       "      <td>81.3</td>\n",
       "      <td>1</td>\n",
       "      <td>Female</td>\n",
       "    </tr>\n",
       "    <tr>\n",
       "      <th>1</th>\n",
       "      <td>4</td>\n",
       "      <td>76.4</td>\n",
       "      <td>2</td>\n",
       "      <td>Male</td>\n",
       "    </tr>\n",
       "    <tr>\n",
       "      <th>2</th>\n",
       "      <td>5</td>\n",
       "      <td>80.3</td>\n",
       "      <td>3</td>\n",
       "      <td>Female</td>\n",
       "    </tr>\n",
       "    <tr>\n",
       "      <th>3</th>\n",
       "      <td>5</td>\n",
       "      <td>83.4</td>\n",
       "      <td>4</td>\n",
       "      <td>Male</td>\n",
       "    </tr>\n",
       "    <tr>\n",
       "      <th>4</th>\n",
       "      <td>6</td>\n",
       "      <td>88.0</td>\n",
       "      <td>5</td>\n",
       "      <td>Female</td>\n",
       "    </tr>\n",
       "    <tr>\n",
       "      <th>...</th>\n",
       "      <td>...</td>\n",
       "      <td>...</td>\n",
       "      <td>...</td>\n",
       "      <td>...</td>\n",
       "    </tr>\n",
       "    <tr>\n",
       "      <th>995</th>\n",
       "      <td>6</td>\n",
       "      <td>87.0</td>\n",
       "      <td>996</td>\n",
       "      <td>Female</td>\n",
       "    </tr>\n",
       "    <tr>\n",
       "      <th>996</th>\n",
       "      <td>7</td>\n",
       "      <td>90.0</td>\n",
       "      <td>997</td>\n",
       "      <td>Female</td>\n",
       "    </tr>\n",
       "    <tr>\n",
       "      <th>997</th>\n",
       "      <td>5</td>\n",
       "      <td>81.1</td>\n",
       "      <td>998</td>\n",
       "      <td>Male</td>\n",
       "    </tr>\n",
       "    <tr>\n",
       "      <th>998</th>\n",
       "      <td>3</td>\n",
       "      <td>74.0</td>\n",
       "      <td>999</td>\n",
       "      <td>Female</td>\n",
       "    </tr>\n",
       "    <tr>\n",
       "      <th>999</th>\n",
       "      <td>5</td>\n",
       "      <td>79.4</td>\n",
       "      <td>1000</td>\n",
       "      <td>Female</td>\n",
       "    </tr>\n",
       "  </tbody>\n",
       "</table>\n",
       "<p>1000 rows × 4 columns</p>\n",
       "</div>"
      ],
      "text/plain": [
       "     Passed Subjects  Student's Avg Score  Student ID  Gender\n",
       "0                  6                 81.3           1  Female\n",
       "1                  4                 76.4           2    Male\n",
       "2                  5                 80.3           3  Female\n",
       "3                  5                 83.4           4    Male\n",
       "4                  6                 88.0           5  Female\n",
       "..               ...                  ...         ...     ...\n",
       "995                6                 87.0         996  Female\n",
       "996                7                 90.0         997  Female\n",
       "997                5                 81.1         998    Male\n",
       "998                3                 74.0         999  Female\n",
       "999                5                 79.4        1000  Female\n",
       "\n",
       "[1000 rows x 4 columns]"
      ]
     },
     "execution_count": 43,
     "metadata": {},
     "output_type": "execute_result"
    }
   ],
   "source": [
    "df_output = pd.read_csv('output-2022-week03.csv')\n",
    "df_output"
   ]
  },
  {
   "cell_type": "code",
   "execution_count": null,
   "metadata": {},
   "outputs": [],
   "source": []
  }
 ],
 "metadata": {
  "kernelspec": {
   "display_name": "Python 3",
   "language": "python",
   "name": "python3"
  },
  "language_info": {
   "codemirror_mode": {
    "name": "ipython",
    "version": 3
   },
   "file_extension": ".py",
   "mimetype": "text/x-python",
   "name": "python",
   "nbconvert_exporter": "python",
   "pygments_lexer": "ipython3",
   "version": "3.7.6"
  }
 },
 "nbformat": 4,
 "nbformat_minor": 4
}
