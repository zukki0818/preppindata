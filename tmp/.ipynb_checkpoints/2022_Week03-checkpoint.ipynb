{
 "cells": [
  {
   "cell_type": "code",
   "execution_count": 1,
   "metadata": {},
   "outputs": [],
   "source": [
    "import numpy as np\n",
    "import pandas as pd\n",
    "\n",
    "df = pd.read_csv('data/PD 2022 Wk 1 Input - Input.csv')\n",
    "df_grade = pd.read_csv('data/PD 2022 WK 3 Grades.csv')\n",
    "\n",
    "# Join the data sets together to give us the grades per student\n",
    "df = df.merge(df_grade, how='left', left_on='id', right_on='Student ID')\n",
    "\n",
    "# Remove the parental data fields, they aren't needed for the challenge this week\n",
    "df.drop(columns=['id', 'Parental Contact Name_1', 'Parental Contact Name_2',\\\n",
    "                 'Preferred Contact Employer', 'Parental Contact'],\n",
    "       inplace=True)\n",
    "\n",
    "# Pivot the data to create one row of data per student and subject -> skip\n",
    "# Rename the pivoted fields to Subject and Score -> skip\n",
    "\n",
    "# Create an average score per student based on all of their grades\n",
    "# Round the average score per student to one decimal place\n",
    "df[\"Student's Avg Score\"] = (df['Maths'] + df['English'] + df['Spanish'] \\\n",
    "                            + df['Science'] + df['Art'] + df['History'] + df['Geography']) / 7\n",
    "df[\"Student's Avg Score\"] = df[\"Student's Avg Score\"].apply(lambda x : round(x, 1))\n",
    "\n",
    "# Create a field that records whether the student passed each subject -> skip\n",
    "# Pass mark is 75 and above in all subjects\n",
    "# Aggregate the data per student to count how many subjects each student passed\n",
    "df['Passed Subjects'] = 0\n",
    "subjects = [df['Maths'], df['English'], df['Spanish'], df['Science'], df['Art'], df['History'], df['Geography']]\n",
    "for subject in subjects:\n",
    "    df['Passed Subjects'] += subject.apply(lambda x: 1 if x >= 75 else 0)\n",
    "\n",
    "df.rename(columns={'gender':'Gender'}, inplace=True)\n",
    "\n",
    "# Remove any unnecessary fields and output the data\n",
    "cols = ['Passed Subjects', \"Student's Avg Score\", 'Student ID', 'Gender']\n",
    "df.to_csv('output-2022-week03.csv', index=False, columns=cols)"
   ]
  }
 ],
 "metadata": {
  "kernelspec": {
   "display_name": "Python 3",
   "language": "python",
   "name": "python3"
  },
  "language_info": {
   "codemirror_mode": {
    "name": "ipython",
    "version": 3
   },
   "file_extension": ".py",
   "mimetype": "text/x-python",
   "name": "python",
   "nbconvert_exporter": "python",
   "pygments_lexer": "ipython3",
   "version": "3.7.6"
  }
 },
 "nbformat": 4,
 "nbformat_minor": 4
}
