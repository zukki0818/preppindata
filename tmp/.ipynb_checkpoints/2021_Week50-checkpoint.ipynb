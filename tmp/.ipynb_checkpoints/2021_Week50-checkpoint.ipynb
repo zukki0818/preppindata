{
 "cells": [
  {
   "cell_type": "code",
   "execution_count": 1,
   "metadata": {},
   "outputs": [],
   "source": [
    "import numpy as np\n",
    "import pandas as pd"
   ]
  },
  {
   "cell_type": "code",
   "execution_count": 199,
   "metadata": {},
   "outputs": [],
   "source": [
    "def fill_salesperson(df):\n",
    "    person_list = df['Salesperson'].dropna().unique()\n",
    "    df['Salesperson'] = df['Salesperson'].astype('str')\n",
    "    \n",
    "    p_i = 0\n",
    "    for i,v in df['Salesperson'].iteritems():\n",
    "        if df['Salesperson'].iloc[i] == person_list[p_i]:\n",
    "            p_i += 1\n",
    "        else:\n",
    "            df['Salesperson'].iloc[i] = person_list[p_i]\n",
    "    \n",
    "    return df"
   ]
  },
  {
   "cell_type": "code",
   "execution_count": 216,
   "metadata": {},
   "outputs": [
    {
     "name": "stderr",
     "output_type": "stream",
     "text": [
      "/opt/anaconda3/lib/python3.7/site-packages/pandas/core/indexing.py:670: SettingWithCopyWarning: \n",
      "A value is trying to be set on a copy of a slice from a DataFrame\n",
      "\n",
      "See the caveats in the documentation: https://pandas.pydata.org/pandas-docs/stable/user_guide/indexing.html#returning-a-view-versus-a-copy\n",
      "  self._setitem_with_indexer(indexer, value)\n"
     ]
    }
   ],
   "source": [
    "df = pd.read_excel('Sales Department Input.xlsx', sheet_name=0)\n",
    "# df_Nov = pd.read_excel('Sales Department Input.xlsx', sheet_name=1)\n",
    "\n",
    "df = fill_salesperson(df)\n",
    "# df_Nov = fill_salesperson(df_Nov)\n",
    "\n",
    "# df = pd.concat([df_Oct, df_Nov])\n",
    "\n",
    "df.drop(columns=['Unnamed: 7','RowID'], inplace=True)\n",
    "df.dropna(inplace=True)"
   ]
  },
  {
   "cell_type": "code",
   "execution_count": 217,
   "metadata": {},
   "outputs": [],
   "source": [
    "df_total = df[['Date', 'Salesperson', 'Total']]\n",
    "\n",
    "df.drop(columns='Total', inplace=True)\n",
    "df = df.melt(id_vars=['Date', 'Salesperson'], var_name='Sales', value_name='Bike Type')"
   ]
  },
  {
   "cell_type": "code",
   "execution_count": 218,
   "metadata": {},
   "outputs": [],
   "source": [
    "df_YTD = pd.read_excel('Sales Department Input.xlsx', sheet_name=0)\n",
    "df_YTD.rename(columns={'Unnamed: 7': 'YTD Total'}, inplace=True)\n",
    "df_Sep_YTD = df_YTD[df_YTD['Total'] == 'YTD total:'][['Salesperson', 'YTD Total']]"
   ]
  },
  {
   "cell_type": "code",
   "execution_count": 219,
   "metadata": {},
   "outputs": [
    {
     "data": {
      "text/html": [
       "<div>\n",
       "<style scoped>\n",
       "    .dataframe tbody tr th:only-of-type {\n",
       "        vertical-align: middle;\n",
       "    }\n",
       "\n",
       "    .dataframe tbody tr th {\n",
       "        vertical-align: top;\n",
       "    }\n",
       "\n",
       "    .dataframe thead th {\n",
       "        text-align: right;\n",
       "    }\n",
       "</style>\n",
       "<table border=\"1\" class=\"dataframe\">\n",
       "  <thead>\n",
       "    <tr style=\"text-align: right;\">\n",
       "      <th></th>\n",
       "      <th>Salesperson</th>\n",
       "      <th>YTD Total</th>\n",
       "    </tr>\n",
       "  </thead>\n",
       "  <tbody>\n",
       "    <tr>\n",
       "      <th>31</th>\n",
       "      <td>Carl</td>\n",
       "      <td>32768.0</td>\n",
       "    </tr>\n",
       "    <tr>\n",
       "      <th>63</th>\n",
       "      <td>Ollie</td>\n",
       "      <td>45627.0</td>\n",
       "    </tr>\n",
       "    <tr>\n",
       "      <th>95</th>\n",
       "      <td>Lorna</td>\n",
       "      <td>64704.0</td>\n",
       "    </tr>\n",
       "    <tr>\n",
       "      <th>127</th>\n",
       "      <td>Jenny</td>\n",
       "      <td>20707.0</td>\n",
       "    </tr>\n",
       "    <tr>\n",
       "      <th>159</th>\n",
       "      <td>Tom</td>\n",
       "      <td>74377.0</td>\n",
       "    </tr>\n",
       "  </tbody>\n",
       "</table>\n",
       "</div>"
      ],
      "text/plain": [
       "    Salesperson  YTD Total\n",
       "31         Carl    32768.0\n",
       "63        Ollie    45627.0\n",
       "95        Lorna    64704.0\n",
       "127       Jenny    20707.0\n",
       "159         Tom    74377.0"
      ]
     },
     "execution_count": 219,
     "metadata": {},
     "output_type": "execute_result"
    }
   ],
   "source": [
    "df_Sep_YTD"
   ]
  },
  {
   "cell_type": "code",
   "execution_count": 224,
   "metadata": {},
   "outputs": [
    {
     "data": {
      "text/html": [
       "<div>\n",
       "<style scoped>\n",
       "    .dataframe tbody tr th:only-of-type {\n",
       "        vertical-align: middle;\n",
       "    }\n",
       "\n",
       "    .dataframe tbody tr th {\n",
       "        vertical-align: top;\n",
       "    }\n",
       "\n",
       "    .dataframe thead th {\n",
       "        text-align: right;\n",
       "    }\n",
       "</style>\n",
       "<table border=\"1\" class=\"dataframe\">\n",
       "  <thead>\n",
       "    <tr style=\"text-align: right;\">\n",
       "      <th></th>\n",
       "      <th>Date</th>\n",
       "      <th>Salesperson</th>\n",
       "      <th>Sales</th>\n",
       "      <th>Bike Type</th>\n",
       "      <th>YTD Total</th>\n",
       "    </tr>\n",
       "  </thead>\n",
       "  <tbody>\n",
       "    <tr>\n",
       "      <th>0</th>\n",
       "      <td>2021-10-01</td>\n",
       "      <td>Carl</td>\n",
       "      <td>Road</td>\n",
       "      <td>60.0</td>\n",
       "      <td>32768.0</td>\n",
       "    </tr>\n",
       "    <tr>\n",
       "      <th>1</th>\n",
       "      <td>2021-10-02</td>\n",
       "      <td>Carl</td>\n",
       "      <td>Road</td>\n",
       "      <td>48.0</td>\n",
       "      <td>32768.0</td>\n",
       "    </tr>\n",
       "    <tr>\n",
       "      <th>2</th>\n",
       "      <td>2021-10-03</td>\n",
       "      <td>Carl</td>\n",
       "      <td>Road</td>\n",
       "      <td>87.0</td>\n",
       "      <td>32768.0</td>\n",
       "    </tr>\n",
       "    <tr>\n",
       "      <th>3</th>\n",
       "      <td>2021-10-04</td>\n",
       "      <td>Carl</td>\n",
       "      <td>Road</td>\n",
       "      <td>4.0</td>\n",
       "      <td>32768.0</td>\n",
       "    </tr>\n",
       "    <tr>\n",
       "      <th>4</th>\n",
       "      <td>2021-10-05</td>\n",
       "      <td>Carl</td>\n",
       "      <td>Road</td>\n",
       "      <td>57.0</td>\n",
       "      <td>32768.0</td>\n",
       "    </tr>\n",
       "    <tr>\n",
       "      <th>...</th>\n",
       "      <td>...</td>\n",
       "      <td>...</td>\n",
       "      <td>...</td>\n",
       "      <td>...</td>\n",
       "      <td>...</td>\n",
       "    </tr>\n",
       "    <tr>\n",
       "      <th>460</th>\n",
       "      <td>2021-10-27</td>\n",
       "      <td>Tom</td>\n",
       "      <td>Mountain</td>\n",
       "      <td>58.0</td>\n",
       "      <td>74377.0</td>\n",
       "    </tr>\n",
       "    <tr>\n",
       "      <th>461</th>\n",
       "      <td>2021-10-28</td>\n",
       "      <td>Tom</td>\n",
       "      <td>Mountain</td>\n",
       "      <td>33.0</td>\n",
       "      <td>74377.0</td>\n",
       "    </tr>\n",
       "    <tr>\n",
       "      <th>462</th>\n",
       "      <td>2021-10-29</td>\n",
       "      <td>Tom</td>\n",
       "      <td>Mountain</td>\n",
       "      <td>67.0</td>\n",
       "      <td>74377.0</td>\n",
       "    </tr>\n",
       "    <tr>\n",
       "      <th>463</th>\n",
       "      <td>2021-10-30</td>\n",
       "      <td>Tom</td>\n",
       "      <td>Mountain</td>\n",
       "      <td>75.0</td>\n",
       "      <td>74377.0</td>\n",
       "    </tr>\n",
       "    <tr>\n",
       "      <th>464</th>\n",
       "      <td>2021-10-31</td>\n",
       "      <td>Tom</td>\n",
       "      <td>Mountain</td>\n",
       "      <td>60.0</td>\n",
       "      <td>74377.0</td>\n",
       "    </tr>\n",
       "  </tbody>\n",
       "</table>\n",
       "<p>465 rows × 5 columns</p>\n",
       "</div>"
      ],
      "text/plain": [
       "          Date Salesperson     Sales  Bike Type  YTD Total\n",
       "0   2021-10-01        Carl      Road       60.0    32768.0\n",
       "1   2021-10-02        Carl      Road       48.0    32768.0\n",
       "2   2021-10-03        Carl      Road       87.0    32768.0\n",
       "3   2021-10-04        Carl      Road        4.0    32768.0\n",
       "4   2021-10-05        Carl      Road       57.0    32768.0\n",
       "..         ...         ...       ...        ...        ...\n",
       "460 2021-10-27         Tom  Mountain       58.0    74377.0\n",
       "461 2021-10-28         Tom  Mountain       33.0    74377.0\n",
       "462 2021-10-29         Tom  Mountain       67.0    74377.0\n",
       "463 2021-10-30         Tom  Mountain       75.0    74377.0\n",
       "464 2021-10-31         Tom  Mountain       60.0    74377.0\n",
       "\n",
       "[465 rows x 5 columns]"
      ]
     },
     "execution_count": 224,
     "metadata": {},
     "output_type": "execute_result"
    }
   ],
   "source": [
    "df = df.merge(df_Sep_YTD, how='left', on='Salesperson')\n",
    "df"
   ]
  },
  {
   "cell_type": "code",
   "execution_count": null,
   "metadata": {},
   "outputs": [],
   "source": []
  }
 ],
 "metadata": {
  "kernelspec": {
   "display_name": "Python 3",
   "language": "python",
   "name": "python3"
  },
  "language_info": {
   "codemirror_mode": {
    "name": "ipython",
    "version": 3
   },
   "file_extension": ".py",
   "mimetype": "text/x-python",
   "name": "python",
   "nbconvert_exporter": "python",
   "pygments_lexer": "ipython3",
   "version": "3.7.6"
  }
 },
 "nbformat": 4,
 "nbformat_minor": 4
}
