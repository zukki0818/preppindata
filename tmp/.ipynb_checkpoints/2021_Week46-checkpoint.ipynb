{
 "cells": [
  {
   "cell_type": "code",
   "execution_count": 157,
   "metadata": {},
   "outputs": [],
   "source": [
    "import numpy as np\n",
    "import pandas as pd"
   ]
  },
  {
   "cell_type": "code",
   "execution_count": 158,
   "metadata": {},
   "outputs": [
    {
     "name": "stdout",
     "output_type": "stream",
     "text": [
      "df_Book\n",
      "df_Author\n",
      "df_Info\n",
      "df_Award\n",
      "df_Checkouts\n",
      "df_Edition\n",
      "df_Publisher\n",
      "df_Ratings\n",
      "df_Series\n",
      "df_Sales Q1\n",
      "df_Sales Q2\n",
      "df_Sales Q3\n",
      "df_Sales Q4\n"
     ]
    }
   ],
   "source": [
    "df_sheetnames = pd.read_excel(\"Bookshop.xlsx\", sheet_name=None)\n",
    "for k in df_sheetnames.keys():\n",
    "    print('df_' + k)"
   ]
  },
  {
   "cell_type": "code",
   "execution_count": 159,
   "metadata": {},
   "outputs": [],
   "source": [
    "df_Book = pd.read_excel(\"Bookshop.xlsx\", sheet_name=0)\n",
    "df_Author = pd.read_excel(\"Bookshop.xlsx\", sheet_name=1)\n",
    "df_Info = pd.read_excel(\"Bookshop.xlsx\", sheet_name=2)\n",
    "df_Award = pd.read_excel(\"Bookshop.xlsx\", sheet_name=3)\n",
    "df_Checkouts = pd.read_excel(\"Bookshop.xlsx\", sheet_name=4)\n",
    "df_Edition = pd.read_excel(\"Bookshop.xlsx\", sheet_name=5)\n",
    "df_Publisher = pd.read_excel(\"Bookshop.xlsx\", sheet_name=6)\n",
    "df_Ratings = pd.read_excel(\"Bookshop.xlsx\", sheet_name=7)\n",
    "df_Series = pd.read_excel(\"Bookshop.xlsx\", sheet_name=8)\n",
    "df_SalesQ1 = pd.read_excel(\"Bookshop.xlsx\", sheet_name=9)\n",
    "df_SalesQ2 = pd.read_excel(\"Bookshop.xlsx\", sheet_name=10)\n",
    "df_SalesQ3 = pd.read_excel(\"Bookshop.xlsx\", sheet_name=11)\n",
    "df_SalesQ4 = pd.read_excel(\"Bookshop.xlsx\", sheet_name=12)"
   ]
  },
  {
   "cell_type": "code",
   "execution_count": 160,
   "metadata": {},
   "outputs": [],
   "source": [
    "df_sales = pd.concat([df_SalesQ1, df_SalesQ2, df_SalesQ3, df_SalesQ4])"
   ]
  },
  {
   "cell_type": "code",
   "execution_count": 161,
   "metadata": {},
   "outputs": [],
   "source": [
    "df_sales = df_sales.merge(df_Edition, how='left', on='ISBN')"
   ]
  },
  {
   "cell_type": "code",
   "execution_count": 162,
   "metadata": {},
   "outputs": [],
   "source": [
    "df_sales = df_sales.merge(df_Book, how='left', on='BookID')"
   ]
  },
  {
   "cell_type": "code",
   "execution_count": 163,
   "metadata": {},
   "outputs": [],
   "source": [
    "df_sales = df_sales.merge(df_Author, how='left', on='AuthID')"
   ]
  },
  {
   "cell_type": "code",
   "execution_count": 164,
   "metadata": {},
   "outputs": [],
   "source": [
    "df_Info['BookID'] = df_Info['BookID1'] + df_Info['BookID2'].astype('str')"
   ]
  },
  {
   "cell_type": "code",
   "execution_count": 165,
   "metadata": {},
   "outputs": [],
   "source": [
    "df_sales = df_sales.merge(df_Info, how='left', on='BookID')"
   ]
  },
  {
   "cell_type": "code",
   "execution_count": 166,
   "metadata": {},
   "outputs": [],
   "source": [
    "df_sales = df_sales.merge(df_Publisher, how='left', on='PubID')"
   ]
  },
  {
   "cell_type": "code",
   "execution_count": 167,
   "metadata": {},
   "outputs": [],
   "source": [
    "df_sales = df_sales.merge(df_Series, how='left', on='SeriesID')"
   ]
  },
  {
   "cell_type": "code",
   "execution_count": 168,
   "metadata": {},
   "outputs": [],
   "source": [
    "df_Award = df_Award.groupby('Title').count()\n",
    "df_Award = df_Award.drop(columns='Year Won').rename(columns={'Award Name':'Number of Awards'})"
   ]
  },
  {
   "cell_type": "code",
   "execution_count": 169,
   "metadata": {},
   "outputs": [],
   "source": [
    "df_sales = df_sales.merge(df_Award, how='left', on=\"Title\")"
   ]
  },
  {
   "cell_type": "code",
   "execution_count": 170,
   "metadata": {},
   "outputs": [],
   "source": [
    "df_Checkouts = df_Checkouts.groupby('BookID').agg({'CheckoutMonth':'count', 'Number of Checkouts':'sum'})\n",
    "df_Checkouts = df_Checkouts.rename(columns={'CheckoutMonth':'Number of Months Checked Out', 'Number of Checkouts':'Total Checkouts'})"
   ]
  },
  {
   "cell_type": "code",
   "execution_count": 171,
   "metadata": {},
   "outputs": [],
   "source": [
    "df_sales = df_sales.merge(df_Checkouts, how='left', on='BookID')"
   ]
  },
  {
   "cell_type": "code",
   "execution_count": 172,
   "metadata": {},
   "outputs": [],
   "source": [
    "df_Ratings = df_Ratings.groupby('BookID').agg({'Rating':'mean', 'ReviewID':'count'})\n",
    "df_Ratings = df_Ratings.rename(columns={'Rating':'avg_rating','ReviewID':'number_of_reviews'})"
   ]
  },
  {
   "cell_type": "code",
   "execution_count": 173,
   "metadata": {},
   "outputs": [],
   "source": [
    "df_sales = df_sales.merge(df_Ratings, how='left', on='BookID')"
   ]
  },
  {
   "cell_type": "code",
   "execution_count": 174,
   "metadata": {},
   "outputs": [],
   "source": [
    "df_sales = df_sales.drop(columns=['BookID1', 'BookID2'])"
   ]
  },
  {
   "cell_type": "code",
   "execution_count": 175,
   "metadata": {},
   "outputs": [
    {
     "data": {
      "text/plain": [
       "Index(['Sale Date', 'ISBN', 'Discount', 'ItemID', 'OrderID', 'BookID',\n",
       "       'Format', 'PubID', 'Publication Date', 'Pages', 'Print Run Size (k)',\n",
       "       'Price', 'Title', 'AuthID', 'First Name', 'Last Name', 'Birthday',\n",
       "       'Country of Residence', 'Hrs Writing per Day', 'Genre', 'SeriesID',\n",
       "       'Volume Number', 'Staff Comment', 'Publishing House', 'City', 'State',\n",
       "       'Country', 'Year Established', 'Marketing Spend', 'Series Name',\n",
       "       'Planned Volumes', 'Book Tour Events', 'Number of Awards',\n",
       "       'Number of Months Checked Out', 'Total Checkouts', 'avg_rating',\n",
       "       'number_of_reviews'],\n",
       "      dtype='object')"
      ]
     },
     "execution_count": 175,
     "metadata": {},
     "output_type": "execute_result"
    }
   ],
   "source": [
    "df_sales.columns"
   ]
  },
  {
   "cell_type": "code",
   "execution_count": 182,
   "metadata": {},
   "outputs": [],
   "source": [
    "pd.set_option('display.max_columns', None)"
   ]
  },
  {
   "cell_type": "code",
   "execution_count": 187,
   "metadata": {},
   "outputs": [
    {
     "data": {
      "text/html": [
       "<div>\n",
       "<style scoped>\n",
       "    .dataframe tbody tr th:only-of-type {\n",
       "        vertical-align: middle;\n",
       "    }\n",
       "\n",
       "    .dataframe tbody tr th {\n",
       "        vertical-align: top;\n",
       "    }\n",
       "\n",
       "    .dataframe thead th {\n",
       "        text-align: right;\n",
       "    }\n",
       "</style>\n",
       "<table border=\"1\" class=\"dataframe\">\n",
       "  <thead>\n",
       "    <tr style=\"text-align: right;\">\n",
       "      <th></th>\n",
       "      <th>Sale Date</th>\n",
       "      <th>ISBN</th>\n",
       "      <th>Discount</th>\n",
       "      <th>ItemID</th>\n",
       "      <th>OrderID</th>\n",
       "      <th>BookID</th>\n",
       "      <th>Format</th>\n",
       "      <th>PubID</th>\n",
       "      <th>Publication Date</th>\n",
       "      <th>Pages</th>\n",
       "      <th>Print Run Size (k)</th>\n",
       "      <th>Price</th>\n",
       "      <th>Title</th>\n",
       "      <th>AuthID</th>\n",
       "      <th>First Name</th>\n",
       "      <th>Last Name</th>\n",
       "      <th>Birthday</th>\n",
       "      <th>Country of Residence</th>\n",
       "      <th>Hrs Writing per Day</th>\n",
       "      <th>Genre</th>\n",
       "      <th>SeriesID</th>\n",
       "      <th>Volume Number</th>\n",
       "      <th>Staff Comment</th>\n",
       "      <th>Publishing House</th>\n",
       "      <th>City</th>\n",
       "      <th>State</th>\n",
       "      <th>Country</th>\n",
       "      <th>Year Established</th>\n",
       "      <th>Marketing Spend</th>\n",
       "      <th>Series Name</th>\n",
       "      <th>Planned Volumes</th>\n",
       "      <th>Book Tour Events</th>\n",
       "      <th>Number of Awards</th>\n",
       "      <th>Number of Months Checked Out</th>\n",
       "      <th>Total Checkouts</th>\n",
       "      <th>avg_rating</th>\n",
       "      <th>number_of_reviews</th>\n",
       "    </tr>\n",
       "  </thead>\n",
       "  <tbody>\n",
       "    <tr>\n",
       "      <th>0</th>\n",
       "      <td>2193-01-02</td>\n",
       "      <td>989-28-3705-007-2</td>\n",
       "      <td>NaN</td>\n",
       "      <td>107020-91-8011</td>\n",
       "      <td>107020-1</td>\n",
       "      <td>HP265</td>\n",
       "      <td>Board book</td>\n",
       "      <td>CHP</td>\n",
       "      <td>2188-06-03</td>\n",
       "      <td>16</td>\n",
       "      <td>55</td>\n",
       "      <td>5.99</td>\n",
       "      <td>Heliotrope Pajamas</td>\n",
       "      <td>MW974</td>\n",
       "      <td>Malin</td>\n",
       "      <td>Wolff</td>\n",
       "      <td>2141-01-31</td>\n",
       "      <td>Hong Kong</td>\n",
       "      <td>6.00</td>\n",
       "      <td>Childrens</td>\n",
       "      <td>NaN</td>\n",
       "      <td>NaN</td>\n",
       "      <td>Wilberforce isn't sure about bedtime in a new ...</td>\n",
       "      <td>Cedar House Publishers</td>\n",
       "      <td>Friday Harbor</td>\n",
       "      <td>Washington</td>\n",
       "      <td>USA</td>\n",
       "      <td>2086</td>\n",
       "      <td>72000</td>\n",
       "      <td>NaN</td>\n",
       "      <td>NaN</td>\n",
       "      <td>NaN</td>\n",
       "      <td>1.0</td>\n",
       "      <td>12</td>\n",
       "      <td>909</td>\n",
       "      <td>4.543651</td>\n",
       "      <td>1764</td>\n",
       "    </tr>\n",
       "    <tr>\n",
       "      <th>1</th>\n",
       "      <td>2193-01-02</td>\n",
       "      <td>989-28-79-11297-4</td>\n",
       "      <td>NaN</td>\n",
       "      <td>107020-9-3293</td>\n",
       "      <td>107020-10</td>\n",
       "      <td>TP887</td>\n",
       "      <td>Trade paperback</td>\n",
       "      <td>ESP</td>\n",
       "      <td>2192-08-25</td>\n",
       "      <td>1296</td>\n",
       "      <td>30</td>\n",
       "      <td>13.46</td>\n",
       "      <td>the life and times of an utterly inconsequenti...</td>\n",
       "      <td>DB605</td>\n",
       "      <td>David</td>\n",
       "      <td>Beam</td>\n",
       "      <td>2157-02-26</td>\n",
       "      <td>United States</td>\n",
       "      <td>5.13</td>\n",
       "      <td>Fiction</td>\n",
       "      <td>NaN</td>\n",
       "      <td>NaN</td>\n",
       "      <td>NaN</td>\n",
       "      <td>Etaoin Shrdlu Press</td>\n",
       "      <td>Seattle</td>\n",
       "      <td>Washington</td>\n",
       "      <td>USA</td>\n",
       "      <td>2069</td>\n",
       "      <td>2320000</td>\n",
       "      <td>NaN</td>\n",
       "      <td>NaN</td>\n",
       "      <td>NaN</td>\n",
       "      <td>1.0</td>\n",
       "      <td>12</td>\n",
       "      <td>210</td>\n",
       "      <td>3.195033</td>\n",
       "      <td>1369</td>\n",
       "    </tr>\n",
       "    <tr>\n",
       "      <th>2</th>\n",
       "      <td>2193-01-02</td>\n",
       "      <td>989-28-79-11297-4</td>\n",
       "      <td>NaN</td>\n",
       "      <td>107020-91-4622</td>\n",
       "      <td>107020-11</td>\n",
       "      <td>TP887</td>\n",
       "      <td>Trade paperback</td>\n",
       "      <td>ESP</td>\n",
       "      <td>2192-08-25</td>\n",
       "      <td>1296</td>\n",
       "      <td>30</td>\n",
       "      <td>13.46</td>\n",
       "      <td>the life and times of an utterly inconsequenti...</td>\n",
       "      <td>DB605</td>\n",
       "      <td>David</td>\n",
       "      <td>Beam</td>\n",
       "      <td>2157-02-26</td>\n",
       "      <td>United States</td>\n",
       "      <td>5.13</td>\n",
       "      <td>Fiction</td>\n",
       "      <td>NaN</td>\n",
       "      <td>NaN</td>\n",
       "      <td>NaN</td>\n",
       "      <td>Etaoin Shrdlu Press</td>\n",
       "      <td>Seattle</td>\n",
       "      <td>Washington</td>\n",
       "      <td>USA</td>\n",
       "      <td>2069</td>\n",
       "      <td>2320000</td>\n",
       "      <td>NaN</td>\n",
       "      <td>NaN</td>\n",
       "      <td>NaN</td>\n",
       "      <td>1.0</td>\n",
       "      <td>12</td>\n",
       "      <td>210</td>\n",
       "      <td>3.195033</td>\n",
       "      <td>1369</td>\n",
       "    </tr>\n",
       "    <tr>\n",
       "      <th>3</th>\n",
       "      <td>2193-01-02</td>\n",
       "      <td>989-28-79-18127-7</td>\n",
       "      <td>NaN</td>\n",
       "      <td>107020-38-4663</td>\n",
       "      <td>107020-12</td>\n",
       "      <td>AY135</td>\n",
       "      <td>Hardcover</td>\n",
       "      <td>ESP</td>\n",
       "      <td>2179-04-24</td>\n",
       "      <td>704</td>\n",
       "      <td>15</td>\n",
       "      <td>27.99</td>\n",
       "      <td>And I Said Yes</td>\n",
       "      <td>EK605</td>\n",
       "      <td>Elmer</td>\n",
       "      <td>Komroff</td>\n",
       "      <td>2129-07-11</td>\n",
       "      <td>Norway</td>\n",
       "      <td>6.00</td>\n",
       "      <td>Fiction</td>\n",
       "      <td>NaN</td>\n",
       "      <td>NaN</td>\n",
       "      <td>NaN</td>\n",
       "      <td>Etaoin Shrdlu Press</td>\n",
       "      <td>Seattle</td>\n",
       "      <td>Washington</td>\n",
       "      <td>USA</td>\n",
       "      <td>2069</td>\n",
       "      <td>2320000</td>\n",
       "      <td>NaN</td>\n",
       "      <td>NaN</td>\n",
       "      <td>NaN</td>\n",
       "      <td>NaN</td>\n",
       "      <td>12</td>\n",
       "      <td>93</td>\n",
       "      <td>3.860825</td>\n",
       "      <td>970</td>\n",
       "    </tr>\n",
       "    <tr>\n",
       "      <th>4</th>\n",
       "      <td>2193-01-02</td>\n",
       "      <td>989-28-79-82197-5</td>\n",
       "      <td>0.15</td>\n",
       "      <td>107020-1-1485</td>\n",
       "      <td>107020-13</td>\n",
       "      <td>TC188</td>\n",
       "      <td>Trade paperback</td>\n",
       "      <td>ESP</td>\n",
       "      <td>2186-12-05</td>\n",
       "      <td>469</td>\n",
       "      <td>20</td>\n",
       "      <td>12.50</td>\n",
       "      <td>Thatchwork Cottage</td>\n",
       "      <td>BM856</td>\n",
       "      <td>Burton</td>\n",
       "      <td>Malamud</td>\n",
       "      <td>2145-01-18</td>\n",
       "      <td>Brazil</td>\n",
       "      <td>6.00</td>\n",
       "      <td>Fiction</td>\n",
       "      <td>NaN</td>\n",
       "      <td>NaN</td>\n",
       "      <td>NaN</td>\n",
       "      <td>Etaoin Shrdlu Press</td>\n",
       "      <td>Seattle</td>\n",
       "      <td>Washington</td>\n",
       "      <td>USA</td>\n",
       "      <td>2069</td>\n",
       "      <td>2320000</td>\n",
       "      <td>NaN</td>\n",
       "      <td>NaN</td>\n",
       "      <td>NaN</td>\n",
       "      <td>NaN</td>\n",
       "      <td>12</td>\n",
       "      <td>195</td>\n",
       "      <td>4.210452</td>\n",
       "      <td>708</td>\n",
       "    </tr>\n",
       "  </tbody>\n",
       "</table>\n",
       "</div>"
      ],
      "text/plain": [
       "   Sale Date               ISBN  Discount          ItemID    OrderID BookID  \\\n",
       "0 2193-01-02  989-28-3705-007-2       NaN  107020-91-8011   107020-1  HP265   \n",
       "1 2193-01-02  989-28-79-11297-4       NaN   107020-9-3293  107020-10  TP887   \n",
       "2 2193-01-02  989-28-79-11297-4       NaN  107020-91-4622  107020-11  TP887   \n",
       "3 2193-01-02  989-28-79-18127-7       NaN  107020-38-4663  107020-12  AY135   \n",
       "4 2193-01-02  989-28-79-82197-5      0.15   107020-1-1485  107020-13  TC188   \n",
       "\n",
       "            Format PubID Publication Date  Pages  Print Run Size (k)  Price  \\\n",
       "0       Board book   CHP       2188-06-03     16                  55   5.99   \n",
       "1  Trade paperback   ESP       2192-08-25   1296                  30  13.46   \n",
       "2  Trade paperback   ESP       2192-08-25   1296                  30  13.46   \n",
       "3        Hardcover   ESP       2179-04-24    704                  15  27.99   \n",
       "4  Trade paperback   ESP       2186-12-05    469                  20  12.50   \n",
       "\n",
       "                                               Title AuthID First Name  \\\n",
       "0                                 Heliotrope Pajamas  MW974      Malin   \n",
       "1  the life and times of an utterly inconsequenti...  DB605      David   \n",
       "2  the life and times of an utterly inconsequenti...  DB605      David   \n",
       "3                                     And I Said Yes  EK605      Elmer   \n",
       "4                                 Thatchwork Cottage  BM856     Burton   \n",
       "\n",
       "  Last Name   Birthday Country of Residence  Hrs Writing per Day      Genre  \\\n",
       "0     Wolff 2141-01-31            Hong Kong                 6.00  Childrens   \n",
       "1      Beam 2157-02-26        United States                 5.13    Fiction   \n",
       "2      Beam 2157-02-26        United States                 5.13    Fiction   \n",
       "3   Komroff 2129-07-11               Norway                 6.00    Fiction   \n",
       "4   Malamud 2145-01-18               Brazil                 6.00    Fiction   \n",
       "\n",
       "  SeriesID  Volume Number                                      Staff Comment  \\\n",
       "0      NaN            NaN  Wilberforce isn't sure about bedtime in a new ...   \n",
       "1      NaN            NaN                                                NaN   \n",
       "2      NaN            NaN                                                NaN   \n",
       "3      NaN            NaN                                                NaN   \n",
       "4      NaN            NaN                                                NaN   \n",
       "\n",
       "         Publishing House           City       State Country  \\\n",
       "0  Cedar House Publishers  Friday Harbor  Washington     USA   \n",
       "1     Etaoin Shrdlu Press        Seattle  Washington     USA   \n",
       "2     Etaoin Shrdlu Press        Seattle  Washington     USA   \n",
       "3     Etaoin Shrdlu Press        Seattle  Washington     USA   \n",
       "4     Etaoin Shrdlu Press        Seattle  Washington     USA   \n",
       "\n",
       "   Year Established  Marketing Spend Series Name  Planned Volumes  \\\n",
       "0              2086            72000         NaN              NaN   \n",
       "1              2069          2320000         NaN              NaN   \n",
       "2              2069          2320000         NaN              NaN   \n",
       "3              2069          2320000         NaN              NaN   \n",
       "4              2069          2320000         NaN              NaN   \n",
       "\n",
       "   Book Tour Events  Number of Awards  Number of Months Checked Out  \\\n",
       "0               NaN               1.0                            12   \n",
       "1               NaN               1.0                            12   \n",
       "2               NaN               1.0                            12   \n",
       "3               NaN               NaN                            12   \n",
       "4               NaN               NaN                            12   \n",
       "\n",
       "   Total Checkouts  avg_rating  number_of_reviews  \n",
       "0              909    4.543651               1764  \n",
       "1              210    3.195033               1369  \n",
       "2              210    3.195033               1369  \n",
       "3               93    3.860825                970  \n",
       "4              195    4.210452                708  "
      ]
     },
     "execution_count": 187,
     "metadata": {},
     "output_type": "execute_result"
    }
   ],
   "source": [
    "df_sales.head()"
   ]
  },
  {
   "cell_type": "code",
   "execution_count": null,
   "metadata": {},
   "outputs": [],
   "source": []
  }
 ],
 "metadata": {
  "kernelspec": {
   "display_name": "Python 3",
   "language": "python",
   "name": "python3"
  },
  "language_info": {
   "codemirror_mode": {
    "name": "ipython",
    "version": 3
   },
   "file_extension": ".py",
   "mimetype": "text/x-python",
   "name": "python",
   "nbconvert_exporter": "python",
   "pygments_lexer": "ipython3",
   "version": "3.7.6"
  }
 },
 "nbformat": 4,
 "nbformat_minor": 4
}
