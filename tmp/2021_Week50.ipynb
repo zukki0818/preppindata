{
 "cells": [
  {
   "cell_type": "code",
   "execution_count": 23,
   "metadata": {},
   "outputs": [],
   "source": [
    "import numpy as np\n",
    "import pandas as pd"
   ]
  },
  {
   "cell_type": "code",
   "execution_count": 129,
   "metadata": {},
   "outputs": [],
   "source": [
    "with pd.ExcelFile('data/Sales Department Input.xlsx') as xl:\n",
    "    df = pd.concat([pd.read_excel(xl, s).assign(sheet=s) for s in xl.sheet_names])\\\n",
    "        .rename(columns={'Unnamed: 7': 'YTD Total'})\n",
    "\n",
    "df['month'] = df['Date'].astype('datetime64[M]').fillna(method='ffill')\n",
    "df['year'] = df['Date'].astype('datetime64[Y]').fillna(method='ffill')\n",
    "\n",
    "# Fill in the Salesperson names for each row (the name appears at the bottom of each monthly grouping)\n",
    "df['Salesperson'] = df['Salesperson'].fillna(method='bfill')\n",
    "\n",
    "# Reshape the data so all the bike types are in a single column\n",
    "df_m =df[df['Date'].notna()].drop(columns=['RowID', 'Total', 'YTD Total', 'sheet'])\\\n",
    "        .melt(id_vars=['Salesperson', 'Date', 'month', 'year'],\n",
    "             var_name='Bike Type', value_name='Sales')\n",
    "\n",
    "# Bring out the YTD information from the October tracker and use it to create YTD totals for November too\n",
    "df_tot = df_m.groupby(['month', 'year', 'Salesperson'])['Sales'].sum().reset_index()\\\n",
    "        .merge(df[df['YTD Total'].notna()][['Salesperson', 'YTD Total', 'month']],\n",
    "             how='left', on=['Salesperson', 'month'])\\\n",
    "        .sort_values(by=['Salesperson', 'month'])\n",
    "\n",
    "df_tot['YTD Total2'] = np.where(df_tot['YTD Total'].isnull(), df_tot['Sales'], df_tot['YTD Total'])\n",
    "df_tot['YTD Total'] = df_tot.groupby(['Salesperson', 'year'])['YTD Total2'].cumsum()\n",
    "\n",
    "df_tot.drop(columns=['Sales', 'YTD Total2'], inplace=True)\n",
    "df_m = df_m.merge(df_tot, how='left', on=['month', 'Salesperson'])\n",
    "\n",
    "# output\n",
    "df_m= df_m[['Salesperson', 'Date', 'Bike Type', 'Sales', 'YTD Total']]\n",
    "df_m.to_csv('output-2021-week50.csv', index=False, date_format='%d/%m/%Y')"
   ]
  },
  {
   "cell_type": "code",
   "execution_count": 113,
   "metadata": {},
   "outputs": [
    {
     "data": {
      "text/html": [
       "<div>\n",
       "<style scoped>\n",
       "    .dataframe tbody tr th:only-of-type {\n",
       "        vertical-align: middle;\n",
       "    }\n",
       "\n",
       "    .dataframe tbody tr th {\n",
       "        vertical-align: top;\n",
       "    }\n",
       "\n",
       "    .dataframe thead th {\n",
       "        text-align: right;\n",
       "    }\n",
       "</style>\n",
       "<table border=\"1\" class=\"dataframe\">\n",
       "  <thead>\n",
       "    <tr style=\"text-align: right;\">\n",
       "      <th></th>\n",
       "      <th>A</th>\n",
       "      <th>B</th>\n",
       "      <th>C</th>\n",
       "    </tr>\n",
       "  </thead>\n",
       "  <tbody>\n",
       "    <tr>\n",
       "      <th>0</th>\n",
       "      <td>2.0</td>\n",
       "      <td>1.0</td>\n",
       "      <td>2.0</td>\n",
       "    </tr>\n",
       "    <tr>\n",
       "      <th>1</th>\n",
       "      <td>3.0</td>\n",
       "      <td>NaN</td>\n",
       "      <td>5.0</td>\n",
       "    </tr>\n",
       "    <tr>\n",
       "      <th>2</th>\n",
       "      <td>1.0</td>\n",
       "      <td>0.0</td>\n",
       "      <td>6.0</td>\n",
       "    </tr>\n",
       "  </tbody>\n",
       "</table>\n",
       "</div>"
      ],
      "text/plain": [
       "     A    B    C\n",
       "0  2.0  1.0  2.0\n",
       "1  3.0  NaN  5.0\n",
       "2  1.0  0.0  6.0"
      ]
     },
     "execution_count": 113,
     "metadata": {},
     "output_type": "execute_result"
    }
   ],
   "source": [
    "df['C'] = df['A'].cumsum()\n",
    "df"
   ]
  },
  {
   "cell_type": "code",
   "execution_count": null,
   "metadata": {},
   "outputs": [],
   "source": []
  }
 ],
 "metadata": {
  "kernelspec": {
   "display_name": "Python 3",
   "language": "python",
   "name": "python3"
  },
  "language_info": {
   "codemirror_mode": {
    "name": "ipython",
    "version": 3
   },
   "file_extension": ".py",
   "mimetype": "text/x-python",
   "name": "python",
   "nbconvert_exporter": "python",
   "pygments_lexer": "ipython3",
   "version": "3.7.6"
  }
 },
 "nbformat": 4,
 "nbformat_minor": 4
}
