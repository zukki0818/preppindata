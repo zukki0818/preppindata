{
 "cells": [
  {
   "cell_type": "code",
   "execution_count": 71,
   "metadata": {},
   "outputs": [],
   "source": [
    "import pandas as pd\n",
    "import numpy as np\n",
    "\n",
    "\n",
    "# Extract each data table within the Excel workbook\n",
    "df = pd.read_excel('PD 2021 Wk 48 Input.xlsx',)\n",
    "df_Lewisham = pd.read_excel('PD 2021 Wk 48 Input.xlsx', usecols=range(1,4), skiprows=1, nrows=3)\n",
    "df_Wimbledon = pd.read_excel('PD 2021 Wk 48 Input.xlsx', usecols=range(1,4), skiprows=6, nrows=3)\n",
    "df_York = pd.read_excel('PD 2021 Wk 48 Input.xlsx', usecols=range(1,4), skiprows=11, nrows=3)\n",
    "\n",
    "# Extract the branch name from the table structure\n",
    "df_Lewisham['Branch'] = df_Lewisham.columns[0]\n",
    "df_Wimbledon['Branch'] = df_Wimbledon.columns[0]\n",
    "df_York['Branch'] = df_York.columns[0]\n",
    "\n",
    "df_Lewisham.rename(columns={'Lewisham':'Clean Measure names'}, inplace=True)\n",
    "df_Wimbledon.rename(columns={'Wimbledon':'Clean Measure names'}, inplace=True)\n",
    "df_York.rename(columns={'York':'Clean Measure names'}, inplace=True)\n",
    "\n",
    "df = pd.concat([df_Lewisham, df_Wimbledon, df_York])\n",
    "\n",
    "# Create a row per measure and year\n",
    "df = df.melt(id_vars=['Branch', 'Clean Measure names'], var_name='Recorded Year', value_name='True Value',)\n",
    "df.head()\n",
    "\n",
    "# Remove the suffix of the measure (i.e. the (k) or (m) if the measure name has the units)\n",
    "df['True Value'] = np.where(df['Clean Measure names'].str.contains('(m)', regex=False),df['True Value'] * 1000000, df['True Value'])\n",
    "df['True Value'] = np.where(df['Clean Measure names'].str.contains('(k)', regex=False),df['True Value'] * 1000, df['True Value'])\n",
    "df['Clean Measure names'] = df['Clean Measure names'].str.replace('\\(k\\)|\\(m\\)','', regex=True)\n",
    "\n",
    "# Remove the word 'Year' from the year values\n",
    "df['Recorded Year'] = df['Recorded Year'].str.replace('Year ', '')\n",
    "\n",
    "# Create a True Value (i.e. the correct number of zeros for the measure)\n",
    "df['True Value'] = df['True Value'].astype('int')\n",
    "\n",
    "# write to csv\n",
    "df.to_csv('PD 2021 Wk 48 Output.csv', encoding=\"utf-8\", index=False)"
   ]
  },
  {
   "cell_type": "code",
   "execution_count": null,
   "metadata": {},
   "outputs": [],
   "source": []
  }
 ],
 "metadata": {
  "kernelspec": {
   "display_name": "Python 3",
   "language": "python",
   "name": "python3"
  },
  "language_info": {
   "codemirror_mode": {
    "name": "ipython",
    "version": 3
   },
   "file_extension": ".py",
   "mimetype": "text/x-python",
   "name": "python",
   "nbconvert_exporter": "python",
   "pygments_lexer": "ipython3",
   "version": "3.7.6"
  }
 },
 "nbformat": 4,
 "nbformat_minor": 4
}
